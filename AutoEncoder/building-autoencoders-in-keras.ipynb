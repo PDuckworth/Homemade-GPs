{
 "cells": [
  {
   "cell_type": "markdown",
   "metadata": {},
   "source": [
    "# AutoEncoder Tutorial \n",
    "\n",
    "- https://blog.keras.io/building-autoencoders-in-keras.html\n"
   ]
  },
  {
   "cell_type": "code",
   "execution_count": 2,
   "metadata": {},
   "outputs": [],
   "source": [
    "from keras.layers import Input, Dense\n",
    "from keras.models import Model\n",
    "from keras.datasets import mnist\n",
    "import numpy as np\n",
    "np.random.seed(7)\n",
    "import matplotlib.pyplot as plt\n",
    "from keras.optimizers import RMSprop"
   ]
  },
  {
   "cell_type": "markdown",
   "metadata": {},
   "source": [
    "## Define the AutoEncoder model (graph)"
   ]
  },
  {
   "cell_type": "code",
   "execution_count": null,
   "metadata": {},
   "outputs": [],
   "source": [
    "# this is the size of our encoded representations\n",
    "encoding_dim = 32  # 32 floats -> compression of factor 24.5, assuming the input is 784 floats\n",
    "\n",
    "# this is our input placeholder\n",
    "input_img = Input(shape=(784,))\n",
    "\n",
    "# \"encoded\" is the encoded representation of the input\n",
    "encoded = Dense(32, activation='relu')(input_img)\n",
    "print(type(encoded))\n",
    "\n",
    "# \"decoded\" is the lossy reconstruction of the input\n",
    "decoded = Dense(784, activation='sigmoid')(encoded)\n",
    "print(type(decoded))\n",
    "\n",
    "# this model maps an input to its reconstruction\n",
    "autoencoder = Model(input_img, decoded)\n",
    "autoencoder.summary()"
   ]
  },
  {
   "cell_type": "markdown",
   "metadata": {},
   "source": [
    "## Load MNIST dataset (and reshape)\n"
   ]
  },
  {
   "cell_type": "code",
   "execution_count": 2,
   "metadata": {},
   "outputs": [
    {
     "name": "stdout",
     "output_type": "stream",
     "text": [
      "(60000, 784)\n",
      "(10000, 784)\n"
     ]
    }
   ],
   "source": [
    "(x_train, _), (x_test, _) = mnist.load_data()\n",
    "\n",
    "x_train = x_train.astype('float32') / 255.\n",
    "x_test = x_test.astype('float32') / 255.\n",
    "x_train = x_train.reshape((len(x_train), np.prod(x_train.shape[1:])))\n",
    "x_test = x_test.reshape((len(x_test), np.prod(x_test.shape[1:])))\n",
    "print(x_train.shape)\n",
    "print(x_test.shape)"
   ]
  },
  {
   "cell_type": "markdown",
   "metadata": {},
   "source": [
    "## Train the autoencoder"
   ]
  },
  {
   "cell_type": "code",
   "execution_count": null,
   "metadata": {
    "scrolled": true
   },
   "outputs": [],
   "source": [
    "# this model maps an input to its encoded representation\n",
    "encoder = Model(input_img, encoded)\n",
    "encoder.summary()"
   ]
  },
  {
   "cell_type": "code",
   "execution_count": null,
   "metadata": {},
   "outputs": [],
   "source": [
    "# create a placeholder for an encoded (32-dimensional) input\n",
    "encoded_input = Input(shape=(32,))\n",
    "print(type(encoded_input))"
   ]
  },
  {
   "cell_type": "code",
   "execution_count": null,
   "metadata": {},
   "outputs": [],
   "source": [
    "# retrieve the last layer of the autoencoder model\n",
    "decoder_layer = autoencoder.layers[-1]\n",
    "print(type(decoder_layer))\n",
    "\n",
    "# create the decoder model\n",
    "decoder = Model(encoded_input, decoder_layer(encoded_input))\n",
    "decoder.summary()"
   ]
  },
  {
   "cell_type": "code",
   "execution_count": null,
   "metadata": {
    "scrolled": true
   },
   "outputs": [],
   "source": [
    "dir(autoencoder)\n",
    "autoencoder.get_config().keys()"
   ]
  },
  {
   "cell_type": "code",
   "execution_count": null,
   "metadata": {
    "scrolled": true
   },
   "outputs": [],
   "source": [
    "autoencoder.compile(optimizer='adadelta', loss='binary_crossentropy')\n",
    "autoencoder.fit(x_train, x_train,\n",
    "            epochs=4,\n",
    "            batch_size=256,\n",
    "            shuffle=True,\n",
    "            validation_data=(x_test, x_test))"
   ]
  },
  {
   "cell_type": "code",
   "execution_count": 11,
   "metadata": {},
   "outputs": [],
   "source": [
    "# Visualise 10 test examples, and the decoded versions\n",
    "def visualize(x_test, decoded_imgs):\n",
    "    n = 15  # how many digits we will display\n",
    "    plt.figure(figsize=(20, 4))\n",
    "    for i in range(n):\n",
    "        # display original\n",
    "        ax = plt.subplot(2, n, i + 1)\n",
    "        plt.imshow(x_test[i].reshape(28, 28))\n",
    "        plt.gray()\n",
    "        ax.get_xaxis().set_visible(False)\n",
    "        ax.get_yaxis().set_visible(False)\n",
    "\n",
    "        # display reconstruction\n",
    "        ax = plt.subplot(2, n, i + 1 + n)\n",
    "        plt.imshow(decoded_imgs[i].reshape(28, 28))\n",
    "        plt.gray()\n",
    "        ax.get_xaxis().set_visible(False)\n",
    "        ax.get_yaxis().set_visible(False)\n",
    "    plt.show()"
   ]
  },
  {
   "cell_type": "code",
   "execution_count": null,
   "metadata": {},
   "outputs": [],
   "source": [
    "encoded_imgs = encoder.predict(x_test)\n",
    "decoded_imgs = decoder.predict(encoded_imgs)\n",
    "visualize(x_test, decoded_imgs)"
   ]
  },
  {
   "cell_type": "markdown",
   "metadata": {},
   "source": [
    "## Use a regularizer to create sparse latent representation"
   ]
  },
  {
   "cell_type": "code",
   "execution_count": 13,
   "metadata": {
    "scrolled": true
   },
   "outputs": [
    {
     "ename": "NameError",
     "evalue": "name 'encoded' is not defined",
     "output_type": "error",
     "traceback": [
      "\u001b[0;31m---------------------------------------------------------------------------\u001b[0m",
      "\u001b[0;31mNameError\u001b[0m                                 Traceback (most recent call last)",
      "\u001b[0;32m<ipython-input-13-5d0b6c9227f0>\u001b[0m in \u001b[0;36m<module>\u001b[0;34m()\u001b[0m\n\u001b[1;32m     14\u001b[0m \u001b[0mautoencoder\u001b[0m \u001b[0;34m=\u001b[0m \u001b[0mModel\u001b[0m\u001b[0;34m(\u001b[0m\u001b[0minput_img\u001b[0m\u001b[0;34m,\u001b[0m \u001b[0msparse_autoencoder\u001b[0m\u001b[0;34m(\u001b[0m\u001b[0minput_img\u001b[0m\u001b[0;34m)\u001b[0m\u001b[0;34m)\u001b[0m\u001b[0;34m\u001b[0m\u001b[0m\n\u001b[1;32m     15\u001b[0m \u001b[0;34m\u001b[0m\u001b[0m\n\u001b[0;32m---> 16\u001b[0;31m \u001b[0mencoder\u001b[0m \u001b[0;34m=\u001b[0m \u001b[0mModel\u001b[0m\u001b[0;34m(\u001b[0m\u001b[0minput_img\u001b[0m\u001b[0;34m,\u001b[0m \u001b[0mencoded\u001b[0m\u001b[0;34m)\u001b[0m\u001b[0;34m\u001b[0m\u001b[0m\n\u001b[0m\u001b[1;32m     17\u001b[0m \u001b[0mencoded_input\u001b[0m \u001b[0;34m=\u001b[0m \u001b[0mInput\u001b[0m\u001b[0;34m(\u001b[0m\u001b[0mshape\u001b[0m\u001b[0;34m=\u001b[0m\u001b[0;34m(\u001b[0m\u001b[0mencoding_dim\u001b[0m\u001b[0;34m,\u001b[0m\u001b[0;34m)\u001b[0m\u001b[0;34m)\u001b[0m\u001b[0;34m\u001b[0m\u001b[0m\n\u001b[1;32m     18\u001b[0m \u001b[0mdecoder_layer\u001b[0m \u001b[0;34m=\u001b[0m \u001b[0mautoencoder\u001b[0m\u001b[0;34m.\u001b[0m\u001b[0mlayers\u001b[0m\u001b[0;34m[\u001b[0m\u001b[0;34m-\u001b[0m\u001b[0;36m1\u001b[0m\u001b[0;34m]\u001b[0m\u001b[0;34m\u001b[0m\u001b[0m\n",
      "\u001b[0;31mNameError\u001b[0m: name 'encoded' is not defined"
     ]
    }
   ],
   "source": [
    "from keras import regularizers\n",
    "encoding_dim = 32\n",
    "input_img = Input(shape=(784,))\n",
    "\n",
    "######## new bit #######\n",
    "# use a Dense layer with a L1 activity regularizer\n",
    "encoded = Dense(encoding_dim, activation='relu',\n",
    "                activity_regularizer=regularizers.l1(10e-10))(input_img)\n",
    "######## new bit #######\n",
    "\n",
    "######## same as before #######\n",
    "decoded = Dense(784, activation='sigmoid')(encoded)\n",
    "autoencoder = Model(input_img, decoded)\n",
    "\n",
    "encoder = Model(input_img, encoded)\n",
    "encoded_input = Input(shape=(encoding_dim,))\n",
    "decoder_layer = autoencoder.layers[-1]\n",
    "decoder = Model(encoded_input, decoder_layer(encoded_input))\n",
    "\n",
    "autoencoder.compile(optimizer='adadelta', loss='binary_crossentropy')\n",
    "history = autoencoder.fit(x_train, x_train,\n",
    "                epochs=5,\n",
    "                batch_size=256,\n",
    "                shuffle=True,\n",
    "                validation_data=(x_test, x_test))"
   ]
  },
  {
   "cell_type": "code",
   "execution_count": null,
   "metadata": {},
   "outputs": [],
   "source": [
    "plt.plot(history.history['val_loss'])\n",
    "ncoded_imgs = encoder.predict(x_test)\n",
    "# encoded_imgs = np.random.normal(size=(encoded_imgs.shape))\n",
    "decoded_imgs = decoder.predict(encoded_imgs)\n",
    "visualize(x_test, decoded_imgs)"
   ]
  },
  {
   "cell_type": "markdown",
   "metadata": {},
   "source": [
    "## Deep architecture\n",
    "\n",
    "We do not have to limit ourselves to a single layer as encoder or decoder, we could instead use a stack of layers, such as:\n"
   ]
  },
  {
   "cell_type": "code",
   "execution_count": 17,
   "metadata": {},
   "outputs": [
    {
     "name": "stdout",
     "output_type": "stream",
     "text": [
      "Train on 60000 samples, validate on 10000 samples\n",
      "Epoch 1/100\n",
      "60000/60000 [==============================] - 16s 260us/step - loss: 0.3339 - val_loss: 0.2650\n",
      "Epoch 2/100\n",
      "60000/60000 [==============================] - 10s 173us/step - loss: 0.2568 - val_loss: 0.2515\n",
      "Epoch 3/100\n",
      "60000/60000 [==============================] - 16s 264us/step - loss: 0.2402 - val_loss: 0.2254\n",
      "Epoch 4/100\n",
      "60000/60000 [==============================] - 13s 215us/step - loss: 0.2141 - val_loss: 0.2030\n",
      "Epoch 5/100\n",
      "60000/60000 [==============================] - 11s 180us/step - loss: 0.1984 - val_loss: 0.1901\n",
      "Epoch 6/100\n",
      "60000/60000 [==============================] - 11s 190us/step - loss: 0.1866 - val_loss: 0.1815\n",
      "Epoch 7/100\n",
      "60000/60000 [==============================] - 11s 191us/step - loss: 0.1797 - val_loss: 0.1753\n",
      "Epoch 8/100\n",
      "60000/60000 [==============================] - 12s 198us/step - loss: 0.1740 - val_loss: 0.1705\n",
      "Epoch 9/100\n",
      "60000/60000 [==============================] - 11s 186us/step - loss: 0.1683 - val_loss: 0.1650\n",
      "Epoch 10/100\n",
      "60000/60000 [==============================] - 12s 193us/step - loss: 0.1632 - val_loss: 0.1600\n",
      "Epoch 11/100\n",
      "60000/60000 [==============================] - 11s 186us/step - loss: 0.1587 - val_loss: 0.1554\n",
      "Epoch 12/100\n",
      "60000/60000 [==============================] - 12s 205us/step - loss: 0.1548 - val_loss: 0.1519\n",
      "Epoch 13/100\n",
      "60000/60000 [==============================] - 12s 194us/step - loss: 0.1514 - val_loss: 0.1483\n",
      "Epoch 14/100\n",
      "60000/60000 [==============================] - 12s 195us/step - loss: 0.1484 - val_loss: 0.1482\n",
      "Epoch 15/100\n",
      "60000/60000 [==============================] - 11s 188us/step - loss: 0.1457 - val_loss: 0.1427\n",
      "Epoch 16/100\n",
      "60000/60000 [==============================] - 12s 198us/step - loss: 0.1431 - val_loss: 0.1393\n",
      "Epoch 17/100\n",
      "60000/60000 [==============================] - 12s 192us/step - loss: 0.1407 - val_loss: 0.1396\n",
      "Epoch 18/100\n",
      "60000/60000 [==============================] - 11s 191us/step - loss: 0.1388 - val_loss: 0.1356\n",
      "Epoch 19/100\n",
      "60000/60000 [==============================] - 11s 188us/step - loss: 0.1371 - val_loss: 0.1344\n",
      "Epoch 20/100\n",
      "60000/60000 [==============================] - 11s 188us/step - loss: 0.1357 - val_loss: 0.1341\n",
      "Epoch 21/100\n",
      "60000/60000 [==============================] - 11s 191us/step - loss: 0.1341 - val_loss: 0.1337\n",
      "Epoch 22/100\n",
      "60000/60000 [==============================] - 13s 217us/step - loss: 0.1329 - val_loss: 0.1307\n",
      "Epoch 23/100\n",
      "60000/60000 [==============================] - 13s 211us/step - loss: 0.1317 - val_loss: 0.1291\n",
      "Epoch 24/100\n",
      "60000/60000 [==============================] - 12s 198us/step - loss: 0.1304 - val_loss: 0.1283\n",
      "Epoch 25/100\n",
      "60000/60000 [==============================] - 12s 192us/step - loss: 0.1293 - val_loss: 0.1271\n",
      "Epoch 26/100\n",
      "60000/60000 [==============================] - 12s 193us/step - loss: 0.1280 - val_loss: 0.1248\n",
      "Epoch 27/100\n",
      "60000/60000 [==============================] - 12s 198us/step - loss: 0.1269 - val_loss: 0.1257\n",
      "Epoch 28/100\n",
      "60000/60000 [==============================] - 12s 194us/step - loss: 0.1256 - val_loss: 0.1239\n",
      "Epoch 29/100\n",
      "60000/60000 [==============================] - 12s 193us/step - loss: 0.1245 - val_loss: 0.1228\n",
      "Epoch 30/100\n",
      "60000/60000 [==============================] - 11s 187us/step - loss: 0.1232 - val_loss: 0.1212\n",
      "Epoch 31/100\n",
      "60000/60000 [==============================] - 13s 210us/step - loss: 0.1220 - val_loss: 0.1196\n",
      "Epoch 32/100\n",
      "60000/60000 [==============================] - 14s 227us/step - loss: 0.1211 - val_loss: 0.1175\n",
      "Epoch 33/100\n",
      "60000/60000 [==============================] - 12s 205us/step - loss: 0.1200 - val_loss: 0.1187\n",
      "Epoch 34/100\n",
      "60000/60000 [==============================] - 12s 199us/step - loss: 0.1193 - val_loss: 0.1179\n",
      "Epoch 35/100\n",
      "60000/60000 [==============================] - 12s 200us/step - loss: 0.1184 - val_loss: 0.1169\n",
      "Epoch 36/100\n",
      "60000/60000 [==============================] - 12s 202us/step - loss: 0.1176 - val_loss: 0.1184\n",
      "Epoch 37/100\n",
      "60000/60000 [==============================] - 12s 196us/step - loss: 0.1170 - val_loss: 0.1158\n",
      "Epoch 38/100\n",
      "60000/60000 [==============================] - 12s 196us/step - loss: 0.1162 - val_loss: 0.1156\n",
      "Epoch 39/100\n",
      "60000/60000 [==============================] - 12s 202us/step - loss: 0.1156 - val_loss: 0.1144\n",
      "Epoch 40/100\n",
      "60000/60000 [==============================] - 11s 184us/step - loss: 0.1151 - val_loss: 0.1139\n",
      "Epoch 41/100\n",
      "60000/60000 [==============================] - 13s 209us/step - loss: 0.1145 - val_loss: 0.1153\n",
      "Epoch 42/100\n",
      "60000/60000 [==============================] - 13s 212us/step - loss: 0.1142 - val_loss: 0.1127\n",
      "Epoch 43/100\n",
      "60000/60000 [==============================] - 12s 203us/step - loss: 0.1136 - val_loss: 0.1125\n",
      "Epoch 44/100\n",
      "60000/60000 [==============================] - 13s 217us/step - loss: 0.1132 - val_loss: 0.1121\n",
      "Epoch 45/100\n",
      "60000/60000 [==============================] - 12s 208us/step - loss: 0.1128 - val_loss: 0.1120\n",
      "Epoch 46/100\n",
      "60000/60000 [==============================] - 12s 197us/step - loss: 0.1124 - val_loss: 0.1128\n",
      "Epoch 47/100\n",
      "60000/60000 [==============================] - 12s 203us/step - loss: 0.1118 - val_loss: 0.1101\n",
      "Epoch 48/100\n",
      "60000/60000 [==============================] - 11s 191us/step - loss: 0.1114 - val_loss: 0.1113\n",
      "Epoch 49/100\n",
      "60000/60000 [==============================] - 12s 206us/step - loss: 0.1112 - val_loss: 0.1090\n",
      "Epoch 50/100\n",
      "60000/60000 [==============================] - 11s 190us/step - loss: 0.1107 - val_loss: 0.1092\n",
      "Epoch 51/100\n",
      "60000/60000 [==============================] - 12s 197us/step - loss: 0.1103 - val_loss: 0.1095\n",
      "Epoch 52/100\n",
      "60000/60000 [==============================] - 12s 193us/step - loss: 0.1100 - val_loss: 0.1082\n",
      "Epoch 53/100\n",
      "60000/60000 [==============================] - 12s 193us/step - loss: 0.1096 - val_loss: 0.1074\n",
      "Epoch 54/100\n",
      "60000/60000 [==============================] - 12s 194us/step - loss: 0.1093 - val_loss: 0.1088\n",
      "Epoch 55/100\n",
      "60000/60000 [==============================] - 12s 202us/step - loss: 0.1088 - val_loss: 0.1097\n",
      "Epoch 56/100\n",
      "60000/60000 [==============================] - 13s 220us/step - loss: 0.1086 - val_loss: 0.1064\n",
      "Epoch 57/100\n",
      "60000/60000 [==============================] - 12s 195us/step - loss: 0.1081 - val_loss: 0.1053\n",
      "Epoch 58/100\n",
      "60000/60000 [==============================] - 12s 201us/step - loss: 0.1079 - val_loss: 0.1062\n",
      "Epoch 59/100\n",
      "60000/60000 [==============================] - 11s 189us/step - loss: 0.1075 - val_loss: 0.1067\n",
      "Epoch 60/100\n",
      "60000/60000 [==============================] - 11s 180us/step - loss: 0.1072 - val_loss: 0.1076\n",
      "Epoch 61/100\n",
      "60000/60000 [==============================] - 12s 195us/step - loss: 0.1068 - val_loss: 0.1058\n",
      "Epoch 62/100\n",
      "60000/60000 [==============================] - 11s 183us/step - loss: 0.1066 - val_loss: 0.1044\n",
      "Epoch 63/100\n",
      "60000/60000 [==============================] - 12s 197us/step - loss: 0.1062 - val_loss: 0.1042\n",
      "Epoch 64/100\n",
      "60000/60000 [==============================] - 12s 198us/step - loss: 0.1060 - val_loss: 0.1067\n",
      "Epoch 65/100\n",
      "60000/60000 [==============================] - 13s 209us/step - loss: 0.1057 - val_loss: 0.1052\n",
      "Epoch 66/100\n",
      "60000/60000 [==============================] - 12s 195us/step - loss: 0.1054 - val_loss: 0.1031\n",
      "Epoch 67/100\n",
      "60000/60000 [==============================] - 12s 199us/step - loss: 0.1052 - val_loss: 0.1033\n",
      "Epoch 68/100\n",
      "60000/60000 [==============================] - 13s 221us/step - loss: 0.1049 - val_loss: 0.1041\n",
      "Epoch 69/100\n",
      "60000/60000 [==============================] - 12s 194us/step - loss: 0.1047 - val_loss: 0.1025\n",
      "Epoch 70/100\n",
      "60000/60000 [==============================] - 11s 180us/step - loss: 0.1044 - val_loss: 0.1033\n",
      "Epoch 71/100\n",
      "60000/60000 [==============================] - 11s 185us/step - loss: 0.1043 - val_loss: 0.1029\n",
      "Epoch 72/100\n",
      "60000/60000 [==============================] - 12s 206us/step - loss: 0.1041 - val_loss: 0.1027\n",
      "Epoch 73/100\n",
      "60000/60000 [==============================] - 11s 187us/step - loss: 0.1038 - val_loss: 0.1033\n",
      "Epoch 74/100\n",
      "60000/60000 [==============================] - 11s 189us/step - loss: 0.1036 - val_loss: 0.1038\n",
      "Epoch 75/100\n",
      "60000/60000 [==============================] - 12s 195us/step - loss: 0.1034 - val_loss: 0.1027\n"
     ]
    },
    {
     "name": "stdout",
     "output_type": "stream",
     "text": [
      "Epoch 76/100\n",
      "60000/60000 [==============================] - 11s 185us/step - loss: 0.1032 - val_loss: 0.1016\n",
      "Epoch 77/100\n",
      "60000/60000 [==============================] - 11s 178us/step - loss: 0.1030 - val_loss: 0.1036\n",
      "Epoch 78/100\n",
      "60000/60000 [==============================] - 11s 183us/step - loss: 0.1029 - val_loss: 0.1029\n",
      "Epoch 79/100\n",
      "60000/60000 [==============================] - 11s 183us/step - loss: 0.1025 - val_loss: 0.1029\n",
      "Epoch 80/100\n",
      "60000/60000 [==============================] - 12s 199us/step - loss: 0.1025 - val_loss: 0.1017\n",
      "Epoch 81/100\n",
      "60000/60000 [==============================] - 11s 181us/step - loss: 0.1023 - val_loss: 0.1027\n",
      "Epoch 82/100\n",
      "60000/60000 [==============================] - 12s 192us/step - loss: 0.1021 - val_loss: 0.1027\n",
      "Epoch 83/100\n",
      "60000/60000 [==============================] - 11s 188us/step - loss: 0.1019 - val_loss: 0.1003\n",
      "Epoch 84/100\n",
      "60000/60000 [==============================] - 12s 196us/step - loss: 0.1016 - val_loss: 0.1007\n",
      "Epoch 85/100\n",
      "60000/60000 [==============================] - 12s 200us/step - loss: 0.1015 - val_loss: 0.1005\n",
      "Epoch 86/100\n",
      "60000/60000 [==============================] - 11s 184us/step - loss: 0.1014 - val_loss: 0.1009\n",
      "Epoch 87/100\n",
      "60000/60000 [==============================] - 11s 190us/step - loss: 0.1012 - val_loss: 0.1004\n",
      "Epoch 88/100\n",
      "60000/60000 [==============================] - 11s 184us/step - loss: 0.1010 - val_loss: 0.0996\n",
      "Epoch 89/100\n",
      "60000/60000 [==============================] - 11s 185us/step - loss: 0.1008 - val_loss: 0.1009\n",
      "Epoch 90/100\n",
      "60000/60000 [==============================] - 11s 183us/step - loss: 0.1006 - val_loss: 0.0991\n",
      "Epoch 91/100\n",
      "60000/60000 [==============================] - 10s 174us/step - loss: 0.1005 - val_loss: 0.0987\n",
      "Epoch 92/100\n",
      "60000/60000 [==============================] - 11s 181us/step - loss: 0.1004 - val_loss: 0.0999\n",
      "Epoch 93/100\n",
      "60000/60000 [==============================] - 11s 187us/step - loss: 0.1001 - val_loss: 0.0992\n",
      "Epoch 94/100\n",
      "60000/60000 [==============================] - 12s 194us/step - loss: 0.1001 - val_loss: 0.0985\n",
      "Epoch 95/100\n",
      "60000/60000 [==============================] - 12s 203us/step - loss: 0.0998 - val_loss: 0.0981\n",
      "Epoch 96/100\n",
      "60000/60000 [==============================] - 12s 194us/step - loss: 0.0998 - val_loss: 0.0981\n",
      "Epoch 97/100\n",
      "60000/60000 [==============================] - 11s 191us/step - loss: 0.0996 - val_loss: 0.0973\n",
      "Epoch 98/100\n",
      "60000/60000 [==============================] - 11s 188us/step - loss: 0.0994 - val_loss: 0.0984\n",
      "Epoch 99/100\n",
      "60000/60000 [==============================] - 12s 197us/step - loss: 0.0993 - val_loss: 0.0986\n",
      "Epoch 100/100\n",
      "60000/60000 [==============================] - 12s 197us/step - loss: 0.0992 - val_loss: 0.0979\n"
     ]
    },
    {
     "data": {
      "image/png": "[encoded data removed]",
      "text/plain": [
       "<matplotlib.figure.Figure at 0x7fbc9ef1d7b8>"
      ]
     },
     "metadata": {},
     "output_type": "display_data"
    },
    {
     "data": {
      "image/png": "[encoded data removed]",
      "text/plain": [
       "<matplotlib.figure.Figure at 0x7fbc9eed9eb8>"
      ]
     },
     "metadata": {},
     "output_type": "display_data"
    }
   ],
   "source": [
    "encoding_dim = 32\n",
    "epochs = 100\n",
    "def deep_autoencoder(input_img):\n",
    "    encoded = Dense(128, activation='relu')(input_img)\n",
    "    encoded = Dense(64, activation='relu')(encoded)\n",
    "    encoded = Dense(32, activation='relu')(encoded)\n",
    "\n",
    "    decoded = Dense(64, activation='relu')(encoded)\n",
    "    decoded = Dense(128, activation='relu')(decoded)\n",
    "    decoded = Dense(784, activation='sigmoid')(decoded)\n",
    "    return decoded\n",
    "\n",
    "input_img = Input(shape=(784,))\n",
    "autoencoder = Model(input_img, deep_autoencoder(input_img))\n",
    "autoencoder.compile(optimizer='adadelta', loss='binary_crossentropy')\n",
    "\n",
    "history = autoencoder.fit(x_train, x_train,\n",
    "                epochs=epochs,\n",
    "                batch_size=256,\n",
    "                shuffle=True,\n",
    "                validation_data=(x_test, x_test))\n",
    "\n",
    "loss = history.history['loss']\n",
    "val_loss = history.history['val_loss']\n",
    "epochs = range(epochs)\n",
    "plt.figure()\n",
    "plt.plot(epochs, loss, 'bo', label='Training loss')\n",
    "plt.plot(epochs, val_loss, 'b', label='Validation loss')\n",
    "plt.title('Training and validation loss')\n",
    "plt.legend()\n",
    "plt.show()\n",
    "\n",
    "decoded_imgs = autoencoder.predict(x_test)\n",
    "visualize(x_test, decoded_imgs)\n"
   ]
  },
  {
   "cell_type": "code",
   "execution_count": 30,
   "metadata": {
    "scrolled": true
   },
   "outputs": [
    {
     "name": "stdout",
     "output_type": "stream",
     "text": [
      "Train on 60000 samples, validate on 10000 samples\n",
      "Epoch 1/20\n",
      "60000/60000 [==============================] - 17s 283us/step - loss: 0.3183 - val_loss: 0.2632\n",
      "Epoch 2/20\n",
      "60000/60000 [==============================] - 19s 311us/step - loss: 0.2510 - val_loss: 0.2390\n",
      "Epoch 3/20\n",
      "60000/60000 [==============================] - 12s 204us/step - loss: 0.2299 - val_loss: 0.2215\n",
      "Epoch 4/20\n",
      "60000/60000 [==============================] - 12s 194us/step - loss: 0.2155 - val_loss: 0.2073\n",
      "Epoch 5/20\n",
      "60000/60000 [==============================] - 12s 194us/step - loss: 0.2016 - val_loss: 0.1938\n",
      "Epoch 6/20\n",
      "60000/60000 [==============================] - 14s 235us/step - loss: 0.1877 - val_loss: 0.1807\n",
      "Epoch 7/20\n",
      "60000/60000 [==============================] - 15s 247us/step - loss: 0.1797 - val_loss: 0.1766\n",
      "Epoch 8/20\n",
      "60000/60000 [==============================] - 15s 243us/step - loss: 0.1743 - val_loss: 0.1694\n",
      "Epoch 9/20\n",
      "60000/60000 [==============================] - 20s 331us/step - loss: 0.1678 - val_loss: 0.1620\n",
      "Epoch 10/20\n",
      "60000/60000 [==============================] - 23s 391us/step - loss: 0.1623 - val_loss: 0.1595\n",
      "Epoch 11/20\n",
      "60000/60000 [==============================] - 20s 327us/step - loss: 0.1577 - val_loss: 0.1543\n",
      "Epoch 12/20\n",
      "60000/60000 [==============================] - 21s 357us/step - loss: 0.1536 - val_loss: 0.1511\n",
      "Epoch 13/20\n",
      "60000/60000 [==============================] - 22s 364us/step - loss: 0.1498 - val_loss: 0.1458\n",
      "Epoch 14/20\n",
      "60000/60000 [==============================] - 22s 374us/step - loss: 0.1460 - val_loss: 0.1440\n",
      "Epoch 15/20\n",
      "60000/60000 [==============================] - 17s 279us/step - loss: 0.1434 - val_loss: 0.1417\n",
      "Epoch 16/20\n",
      "60000/60000 [==============================] - 17s 284us/step - loss: 0.1412 - val_loss: 0.1378\n",
      "Epoch 17/20\n",
      "60000/60000 [==============================] - 13s 214us/step - loss: 0.1394 - val_loss: 0.1372\n",
      "Epoch 18/20\n",
      "60000/60000 [==============================] - 22s 362us/step - loss: 0.1378 - val_loss: 0.1358\n",
      "Epoch 19/20\n",
      "60000/60000 [==============================] - 26s 442us/step - loss: 0.1360 - val_loss: 0.1345\n",
      "Epoch 20/20\n",
      "60000/60000 [==============================] - 24s 406us/step - loss: 0.1345 - val_loss: 0.1313\n"
     ]
    },
    {
     "data": {
      "image/png": "[encoded data removed]",
      "text/plain": [
       "<matplotlib.figure.Figure at 0x7fbcb16178d0>"
      ]
     },
     "metadata": {},
     "output_type": "display_data"
    }
   ],
   "source": [
    "nepochs = 20\n",
    "encoding_dim = 32\n",
    "input_img = Input(shape=(784,))\n",
    "\n",
    "def deep_autoencoder(input_img, encoding_dim=32):\n",
    "    \n",
    "    encoded = Dense(128, activation='relu')(input_img)\n",
    "    encoded = Dense(64, activation='relu')(encoded)\n",
    "    encoded = Dense(32, activation='relu')(encoded)\n",
    "    \n",
    "    # encoder model\n",
    "    encoder = Model(input_img, encoded, name='enc')\n",
    "    \n",
    "    latent_dim = Input(shape=(encoding_dim,))\n",
    "    decoded = Dense(64, activation='relu')(latent_dim)\n",
    "    decoded = Dense(128, activation='relu')(decoded)\n",
    "    decoded = Dense(784, activation='sigmoid')(decoded)\n",
    "    \n",
    "    # decoder model\n",
    "    decoder = Model(latent_dim, decoded, name='dec')\n",
    "    \n",
    "    # autoencoder model - need to link the two models\n",
    "    autoencoder = Model(input_img, decoder(encoder(input_img)))\n",
    "    return (autoencoder, encoder, decoder)\n",
    "\n",
    "autoencoder, encoder, decoder = deep_autoencoder(input_img) \n",
    "\n",
    "autoencoder.compile(optimizer='adadelta', loss='binary_crossentropy')\n",
    "history = autoencoder.fit(x_train, x_train,\n",
    "                epochs=nepochs,\n",
    "                batch_size=256,\n",
    "                shuffle=True,\n",
    "                validation_data=(x_test, x_test))\n",
    "encoded_imgs = encoder.predict(x_test)\n",
    "decoded_imgs = decoder.predict(encoded_imgs)\n",
    "visualize(x_test, decoded_imgs)"
   ]
  },
  {
   "cell_type": "markdown",
   "metadata": {},
   "source": [
    "## Try a different optimizer and loss function:"
   ]
  },
  {
   "cell_type": "code",
   "execution_count": 31,
   "metadata": {
    "scrolled": true
   },
   "outputs": [
    {
     "name": "stdout",
     "output_type": "stream",
     "text": [
      "Train on 60000 samples, validate on 10000 samples\n",
      "Epoch 1/20\n",
      "60000/60000 [==============================] - 9s 154us/step - loss: 0.0542 - val_loss: 0.0380\n",
      "Epoch 2/20\n",
      "60000/60000 [==============================] - 10s 172us/step - loss: 0.0342 - val_loss: 0.0308\n",
      "Epoch 3/20\n",
      "60000/60000 [==============================] - 16s 261us/step - loss: 0.0286 - val_loss: 0.0261\n",
      "Epoch 4/20\n",
      "60000/60000 [==============================] - 12s 203us/step - loss: 0.0252 - val_loss: 0.0229\n",
      "Epoch 5/20\n",
      "60000/60000 [==============================] - 10s 168us/step - loss: 0.0229 - val_loss: 0.0214\n",
      "Epoch 6/20\n",
      "60000/60000 [==============================] - 12s 208us/step - loss: 0.0212 - val_loss: 0.0213\n",
      "Epoch 7/20\n",
      "60000/60000 [==============================] - 13s 210us/step - loss: 0.0200 - val_loss: 0.0188\n",
      "Epoch 8/20\n",
      "60000/60000 [==============================] - 11s 182us/step - loss: 0.0190 - val_loss: 0.0175\n",
      "Epoch 9/20\n",
      "60000/60000 [==============================] - 11s 179us/step - loss: 0.0181 - val_loss: 0.0166\n",
      "Epoch 10/20\n",
      "60000/60000 [==============================] - 18s 295us/step - loss: 0.0174 - val_loss: 0.0163\n",
      "Epoch 11/20\n",
      "60000/60000 [==============================] - 12s 205us/step - loss: 0.0167 - val_loss: 0.0160\n",
      "Epoch 12/20\n",
      "60000/60000 [==============================] - 10s 162us/step - loss: 0.0162 - val_loss: 0.0157\n",
      "Epoch 13/20\n",
      "60000/60000 [==============================] - 13s 215us/step - loss: 0.0158 - val_loss: 0.0151\n",
      "Epoch 14/20\n",
      "60000/60000 [==============================] - 11s 176us/step - loss: 0.0154 - val_loss: 0.0159\n",
      "Epoch 15/20\n",
      "60000/60000 [==============================] - 9s 156us/step - loss: 0.0150 - val_loss: 0.0138\n",
      "Epoch 16/20\n",
      "60000/60000 [==============================] - 9s 158us/step - loss: 0.0147 - val_loss: 0.0141\n",
      "Epoch 17/20\n",
      "60000/60000 [==============================] - 9s 145us/step - loss: 0.0144 - val_loss: 0.0138\n",
      "Epoch 18/20\n",
      "60000/60000 [==============================] - 8s 136us/step - loss: 0.0141 - val_loss: 0.0132\n",
      "Epoch 19/20\n",
      "60000/60000 [==============================] - 10s 164us/step - loss: 0.0139 - val_loss: 0.0136\n",
      "Epoch 20/20\n",
      "60000/60000 [==============================] - 10s 172us/step - loss: 0.0136 - val_loss: 0.0139\n"
     ]
    },
    {
     "data": {
      "image/png": "[encoded data removed]",
      "text/plain": [
       "<matplotlib.figure.Figure at 0x7fbc9ee46550>"
      ]
     },
     "metadata": {},
     "output_type": "display_data"
    }
   ],
   "source": [
    "autoencoder, encoder, decoder = deep_autoencoder(input_img) \n",
    "autoencoder.compile(optimizer = RMSprop(), loss='mean_squared_error')\n",
    "history = autoencoder.fit(x_train, x_train,\n",
    "                epochs=nepochs,\n",
    "                batch_size=256,\n",
    "                shuffle=True,\n",
    "                validation_data=(x_test, x_test))\n",
    "encoded_imgs = encoder.predict(x_test)\n",
    "decoded_imgs = decoder.predict(encoded_imgs)\n",
    "visualize(x_test, decoded_imgs)"
   ]
  },
  {
   "cell_type": "markdown",
   "metadata": {},
   "source": [
    "## Convolutional autoencoder\n"
   ]
  },
  {
   "cell_type": "code",
   "execution_count": null,
   "metadata": {},
   "outputs": [],
   "source": [
    "\n",
    "    latent_dim = Input(shape=(encoding_dim,))\n",
    "    decoded = Dense(64, activation='relu')(latent_dim)\n",
    "    decoded = Dense(128, activation='relu')(decoded)\n",
    "    decoded = Dense(784, activation='sigmoid')(decoded)\n",
    "    \n",
    "    # decoder model\n",
    "    decoder = Model(latent_dim, decoded, name='dec')\n",
    "    \n",
    "    # autoencoder model - need to link the two models\n",
    "    autoencoder = Model(input_img, decoder(encoder(input_img)))\n",
    "    return (autoencoder, encoder, decoder)"
   ]
  },
  {
   "cell_type": "code",
   "execution_count": 61,
   "metadata": {},
   "outputs": [],
   "source": [
    "from keras.layers import Input, Dense, Conv2D, MaxPooling2D, UpSampling2D\n",
    "from keras.models import Model\n",
    "from keras import backend as K\n",
    "\n",
    "def conv_autoencoder():\n",
    "    input_img = Input(shape=(28, 28, 1))  # adapt this if using `channels_first` image data format\n",
    "\n",
    "    x = Conv2D(16, (3, 3), activation='relu', padding='same')(input_img)\n",
    "    x = MaxPooling2D((2, 2), padding='same')(x)\n",
    "    x = Conv2D(8, (3, 3), activation='relu', padding='same')(x)\n",
    "    x = MaxPooling2D((2, 2), padding='same')(x)\n",
    "    x = Conv2D(8, (3, 3), activation='relu', padding='same')(x)\n",
    "    encoded = MaxPooling2D((2, 2), padding='same')(x)\n",
    "\n",
    "    # encoder part of the model\n",
    "    encoder = Model(input_img, encoded, name='enc')\n",
    "\n",
    "    # at this point the representation is (4, 4, 8) i.e. 128-dimensional\n",
    "\n",
    "    lat_dim = Input(shape=(4, 4, 8))\n",
    "\n",
    "    x = Conv2D(8, (3, 3), activation='relu', padding='same')(lat_dim)\n",
    "    x = UpSampling2D((2, 2))(x)\n",
    "    x = Conv2D(8, (3, 3), activation='relu', padding='same')(x)\n",
    "    x = UpSampling2D((2, 2))(x)\n",
    "    x = Conv2D(16, (3, 3), activation='relu')(x)\n",
    "    x = UpSampling2D((2, 2))(x)\n",
    "    decoded = Conv2D(1, (3, 3), activation='sigmoid', padding='same')(x)\n",
    "\n",
    "    # decoder part of the model\n",
    "    decoder = Model(lat_dim, decoded, name='dec')\n",
    "\n",
    "    autoencoder = Model(input_img, decoder(encoder(input_img)))\n",
    "    return (autoencoder, encoder, decoder)"
   ]
  },
  {
   "cell_type": "code",
   "execution_count": 62,
   "metadata": {},
   "outputs": [],
   "source": [
    "from keras.datasets import mnist\n",
    "import numpy as np\n",
    "\n",
    "(x_train, _), (x_test, _) = mnist.load_data()\n",
    "\n",
    "x_train = x_train.astype('float32') / 255.\n",
    "x_test = x_test.astype('float32') / 255.\n",
    "x_train = np.reshape(x_train, (len(x_train), 28, 28, 1))  # adapt this if using `channels_first` image data format\n",
    "x_test = np.reshape(x_test, (len(x_test), 28, 28, 1))  # adapt this if using `channels_first` image data format\n"
   ]
  },
  {
   "cell_type": "code",
   "execution_count": 68,
   "metadata": {
    "scrolled": true
   },
   "outputs": [
    {
     "name": "stderr",
     "output_type": "stream",
     "text": [
      "/home/scpd/Software/anaconda3/envs/env3.5/lib/python3.5/site-packages/keras/callbacks.py:694: UserWarning: You are not using the TensorFlow backend. write_graph was set to False\n",
      "  warnings.warn('You are not using the TensorFlow backend. '\n"
     ]
    },
    {
     "name": "stdout",
     "output_type": "stream",
     "text": [
      "Train on 60000 samples, validate on 10000 samples\n",
      "Epoch 1/5\n",
      "60000/60000 [==============================] - 224s 4ms/step - loss: 0.0355 - val_loss: 0.0256\n",
      "Epoch 2/5\n",
      "60000/60000 [==============================] - 245s 4ms/step - loss: 0.0223 - val_loss: 0.0200\n",
      "Epoch 3/5\n",
      "60000/60000 [==============================] - 251s 4ms/step - loss: 0.0192 - val_loss: 0.0187\n",
      "Epoch 4/5\n",
      "60000/60000 [==============================] - 212s 4ms/step - loss: 0.0174 - val_loss: 0.0161\n",
      "Epoch 5/5\n",
      "60000/60000 [==============================] - 223s 4ms/step - loss: 0.0163 - val_loss: 0.0148\n"
     ]
    }
   ],
   "source": [
    "from keras.callbacks import TensorBoard\n",
    "nepochs = 5\n",
    "autoencoder, encoder, decoder = conv_autoencoder()\n",
    "# autoencoder.compile(optimizer='adadelta', loss='binary_crossentropy')\n",
    "autoencoder.compile(optimizer = RMSprop(), loss='mean_squared_error')\n",
    "\n",
    "history = autoencoder.fit(x_train, x_train,\n",
    "                epochs=nepochs,\n",
    "                batch_size=32,\n",
    "                shuffle=True,\n",
    "                validation_data=(x_test, x_test),\n",
    "                callbacks=[TensorBoard(log_dir='/tmp/autoencoder')])"
   ]
  },
  {
   "cell_type": "code",
   "execution_count": 69,
   "metadata": {},
   "outputs": [
    {
     "data": {
      "image/png": "[encoded data removed]",
      "text/plain": [
       "<matplotlib.figure.Figure at 0x7fbc84168860>"
      ]
     },
     "metadata": {},
     "output_type": "display_data"
    }
   ],
   "source": [
    "n = 10\n",
    "decoded_imgs = autoencoder.predict(x_test)\n",
    "\n",
    "plt.figure(figsize=(20, 4))\n",
    "for i in range(n):\n",
    "    i+=1\n",
    "    # display original\n",
    "    ax = plt.subplot(2, n, i)\n",
    "    plt.imshow(x_test[i].reshape(28, 28))\n",
    "    plt.gray()\n",
    "    ax.get_xaxis().set_visible(False)\n",
    "    ax.get_yaxis().set_visible(False)\n",
    "\n",
    "    # display reconstruction\n",
    "    ax = plt.subplot(2, n, i + n)\n",
    "    plt.imshow(decoded_imgs[i].reshape(28, 28))\n",
    "    plt.gray()\n",
    "    ax.get_xaxis().set_visible(False)\n",
    "    ax.get_yaxis().set_visible(False)\n",
    "plt.show()\n"
   ]
  },
  {
   "cell_type": "markdown",
   "metadata": {},
   "source": [
    "We can also have a look at the 128-dimensional encoded representations. These representations are 8x4x4, so we reshape them to 4x32 in order to be able to display them as grayscale images.\n"
   ]
  },
  {
   "cell_type": "code",
   "execution_count": 71,
   "metadata": {
    "scrolled": true
   },
   "outputs": [
    {
     "data": {
      "image/png": "[encoded data removed]",
      "text/plain": [
       "<matplotlib.figure.Figure at 0x7fbc85107320>"
      ]
     },
     "metadata": {},
     "output_type": "display_data"
    }
   ],
   "source": [
    "encoded_imgs = encoder.predict(x_test)\n",
    "plt.figure(figsize=(20, 8))\n",
    "for i in range(n):\n",
    "    i+=1\n",
    "    ax = plt.subplot(1, n, i)\n",
    "    plt.imshow(encoded_imgs[i].reshape(4, 4 * 8).T)\n",
    "    plt.gray()\n",
    "    ax.get_xaxis().set_visible(False)\n",
    "    ax.get_yaxis().set_visible(False)\n",
    "plt.show()"
   ]
  },
  {
   "cell_type": "code",
   "execution_count": null,
   "metadata": {},
   "outputs": [],
   "source": []
  }
 ],
 "metadata": {
  "kernelspec": {
   "display_name": "Python 3",
   "language": "python",
   "name": "python3"
  },
  "language_info": {
   "codemirror_mode": {
    "name": "ipython",
    "version": 3
   },
   "file_extension": ".py",
   "mimetype": "text/x-python",
   "name": "python",
   "nbconvert_exporter": "python",
   "pygments_lexer": "ipython3",
   "version": "3.5.4"
  }
 },
 "nbformat": 4,
 "nbformat_minor": 2
}
