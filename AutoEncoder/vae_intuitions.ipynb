{
 "cells": [
  {
   "cell_type": "markdown",
   "metadata": {},
   "source": [
    "# Variational Autoencoder Formulation and Intuition\n",
    "\n",
    "Blog post by: https://wiseodd.github.io/techblog/2016/12/10/variational-autoencoder/"
   ]
  },
  {
   "cell_type": "code",
   "execution_count": 1,
   "metadata": {},
   "outputs": [
    {
     "name": "stderr",
     "output_type": "stream",
     "text": [
      "Using TensorFlow backend.\n"
     ]
    }
   ],
   "source": [
    "from tensorflow.examples.tutorials.mnist import input_data\n",
    "from keras.layers import Input, Dense, Lambda\n",
    "from keras.models import Model\n",
    "from keras.objectives import binary_crossentropy\n",
    "from keras.callbacks import LearningRateScheduler\n",
    "\n",
    "import numpy as np\n",
    "import matplotlib.pyplot as plt\n",
    "import keras.backend as K\n",
    "import tensorflow as tf\n"
   ]
  },
  {
   "cell_type": "code",
   "execution_count": 2,
   "metadata": {},
   "outputs": [],
   "source": [
    "m = 50\n",
    "n_z = 2\n",
    "n_epoch = 10    "
   ]
  },
  {
   "cell_type": "markdown",
   "metadata": {},
   "source": [
    "First, let’s implement the encoder net Q(z|X), which takes input X and outputting two things: μ(X) and Σ(X), the parameters of the Gaussian"
   ]
  },
  {
   "cell_type": "code",
   "execution_count": 3,
   "metadata": {},
   "outputs": [],
   "source": [
    "# Q(z|X) -- encoder\n",
    "inputs = Input(shape=(784,))\n",
    "# h_q = Dense(512, activation='relu')(inputs)\n",
    "# mu = Dense(n_z, activation='linear')(h_q)\n",
    "\n",
    "# Make Encoder deeper: \n",
    "encoded = Dense(512, activation='relu')(inputs)\n",
    "encoded = Dense(128, activation='relu')(encoded)\n",
    "encoded = Dense(64, activation='relu')(encoded)\n",
    "encoded = Dense(32, activation='relu')(encoded)\n",
    "\n",
    "# Q network outputs mu and log(sigma)\n",
    "mu = Dense(n_z, activation='linear')(encoded)\n",
    "log_sigma = Dense(n_z, activation='linear')(encoded)"
   ]
  },
  {
   "cell_type": "markdown",
   "metadata": {},
   "source": [
    "That is, our Q(z|X) is a neural net with one (or many) hidden layer(s). In this implementation, our latent variable is two dimensional, so that we can easily visualize it."
   ]
  },
  {
   "cell_type": "markdown",
   "metadata": {},
   "source": [
    "The reparameterization trick is as follows. Recall, if we have $x∼N(μ,Σ)$ and then standardize it so that $μ=0,Σ=1$, we could revert it back to the original distribution by reverting the standardization process. Hence, we have this equation: $x=μ+Σ^\\frac{1}{2} x_{std}$ \n",
    "\n",
    "With that in mind, we could extend it. If we sample from a standard normal distribution, we could convert it to any Gaussian we want if we know the mean and the variance. Hence we could implement our sampling operation of $z$ by: $z=μ(X)+Σ^\\frac{1}{2}(X)\\epsilon $, where $\\epsilon∼N(0,1)$ ."
   ]
  },
  {
   "cell_type": "code",
   "execution_count": 4,
   "metadata": {},
   "outputs": [],
   "source": [
    "def sample_z(args):\n",
    "    (m, n_z) = 50, 2 \n",
    "    \n",
    "    mu, log_sigma = args\n",
    "    eps = K.random_normal(shape=(m, n_z), mean=0., stddev=1.)\n",
    "    return mu + K.exp(log_sigma / 2) * eps\n",
    "\n",
    "# Sample z ~ Q(z|X)\n",
    "z = Lambda(sample_z)([mu, log_sigma])\n"
   ]
  },
  {
   "cell_type": "markdown",
   "metadata": {},
   "source": [
    "Now we create the decoder net $P(X|z)$:\n",
    "\n"
   ]
  },
  {
   "cell_type": "code",
   "execution_count": 5,
   "metadata": {},
   "outputs": [],
   "source": [
    "# P(X|z) -- decoder\n",
    "h1 = Dense(32, activation='relu')\n",
    "h2 = Dense(64, activation='relu')\n",
    "h3 = Dense(128, activation='relu')\n",
    "decoder_out = Dense(784, activation='sigmoid')\n",
    "\n",
    "h_p = h1(z)\n",
    "h_p = h2(h_p)\n",
    "h_p = h3(h_p)\n",
    "outputs = decoder_out(h_p)\n"
   ]
  },
  {
   "cell_type": "markdown",
   "metadata": {},
   "source": [
    "Lastly, from this model, we can do three things: reconstruct inputs, encode inputs into latent variables, and generate data from latent variable. So, we have three Keras models:\n",
    "        "
   ]
  },
  {
   "cell_type": "code",
   "execution_count": 6,
   "metadata": {},
   "outputs": [],
   "source": [
    "# ### NORMAL AE:\n",
    "\n",
    "#     latent_dim = Input(shape=(2,))\n",
    "#     decoded = Dense(64, activation='relu')(latent_dim)\n",
    "#     decoded = Dense(128, activation='relu')(decoded)\n",
    "#     decoded = Dense(784, activation='sigmoid')(decoded)\n",
    "    \n",
    "#     # decoder model\n",
    "#     decoder = Model(latent_dim, decoded, name='dec')\n",
    "    \n",
    "    \n",
    "# ## VAE Blog:\n",
    "\n",
    "#     decoder_hidden = Dense(512, activation='relu')\n",
    "#     decoder_out = Dense(784, activation='sigmoid')\n",
    "\n",
    "#     h_p = decoder_hidden(z)\n",
    "#     outputs = decoder_out(h_p)\n",
    "\n",
    "#     d_h = decoder_hidden(d_in)\n",
    "#     d_out = decoder_out(d_h)\n",
    "\n",
    "#     decoder = Model(d_in, d_out)\n"
   ]
  },
  {
   "cell_type": "code",
   "execution_count": 7,
   "metadata": {},
   "outputs": [],
   "source": [
    "# Overall VAE model, for reconstruction and training\n",
    "vae = Model(inputs, outputs, name='vae')\n",
    "\n",
    "# Encoder model, to encode input into latent variable\n",
    "# We use the mean as the output as it is the center point, the representative of the gaussian\n",
    "encoder = Model(inputs, mu, name='enc')\n",
    "\n",
    "# Generator model, generate new data given latent variable z\n",
    "d_in = Input(shape=(n_z,))\n",
    "d_h = h1(d_in)\n",
    "d_h = h2(d_h)\n",
    "d_h = h3(d_h)\n",
    "d_out = decoder_out(d_h)\n",
    "decoder = Model(d_in, d_out, name='dec')\n"
   ]
  },
  {
   "cell_type": "markdown",
   "metadata": {},
   "source": [
    "Then, we need to translate our loss into Keras code:"
   ]
  },
  {
   "cell_type": "code",
   "execution_count": 8,
   "metadata": {},
   "outputs": [],
   "source": [
    "def vae_loss(y_true, y_pred):\n",
    "    \"\"\" Calculate loss = reconstruction loss + KL loss for each data in minibatch \"\"\"\n",
    "    \n",
    "    # E[log P(X|z)]\n",
    "    recon = K.sum(K.binary_crossentropy(y_pred, y_true), axis=1)\n",
    "    # D_KL(Q(z|X) || P(z|X)); calculate in closed form as both dist. are Gaussian\n",
    "    kl = 0.5 * K.sum(K.exp(log_sigma) + K.square(mu) - 1. - log_sigma, axis=1)\n",
    "\n",
    "    return recon + kl\n",
    "\n"
   ]
  },
  {
   "cell_type": "markdown",
   "metadata": {},
   "source": [
    "and then train it: (with mnist data)"
   ]
  },
  {
   "cell_type": "code",
   "execution_count": 9,
   "metadata": {},
   "outputs": [],
   "source": [
    "# Visualise 10 test examples, and the decoded versions\n",
    "def visualize(x_test, decoded_imgs=None):\n",
    "    n = 10    # how many digits we will display\n",
    "    plt.figure(figsize=(20, 4))\n",
    "    for i in range(n):\n",
    "        # display original\n",
    "        ax = plt.subplot(2, n, i + 1)\n",
    "        plt.imshow(x_test[i].reshape(28, 28))\n",
    "        plt.gray()\n",
    "        ax.get_xaxis().set_visible(False)\n",
    "        ax.get_yaxis().set_visible(False)\n",
    "\n",
    "        # display reconstruction\n",
    "        ax = plt.subplot(2, n, i + 1 + n)\n",
    "        plt.imshow(decoded_imgs[i].reshape(28, 28))\n",
    "        plt.gray()\n",
    "        ax.get_xaxis().set_visible(False)\n",
    "        ax.get_yaxis().set_visible(False)\n",
    "    plt.show()"
   ]
  },
  {
   "cell_type": "code",
   "execution_count": 10,
   "metadata": {},
   "outputs": [
    {
     "name": "stdout",
     "output_type": "stream",
     "text": [
      "WARNING:tensorflow:From <ipython-input-10-9fd1049c8df9>:1: read_data_sets (from tensorflow.contrib.learn.python.learn.datasets.mnist) is deprecated and will be removed in a future version.\n",
      "Instructions for updating:\n",
      "Please use alternatives such as official/mnist/dataset.py from tensorflow/models.\n",
      "WARNING:tensorflow:From /data/greyostrich/not-backed-up/aims/aimsre/pduckwor/python-virtual-envs/keras_tf/lib64/python3.6/site-packages/tensorflow/contrib/learn/python/learn/datasets/mnist.py:260: maybe_download (from tensorflow.contrib.learn.python.learn.datasets.base) is deprecated and will be removed in a future version.\n",
      "Instructions for updating:\n",
      "Please write your own downloading logic.\n",
      "WARNING:tensorflow:From /data/greyostrich/not-backed-up/aims/aimsre/pduckwor/python-virtual-envs/keras_tf/lib64/python3.6/site-packages/tensorflow/contrib/learn/python/learn/datasets/mnist.py:262: extract_images (from tensorflow.contrib.learn.python.learn.datasets.mnist) is deprecated and will be removed in a future version.\n",
      "Instructions for updating:\n",
      "Please use tf.data to implement this functionality.\n",
      "Extracting MNIST_data/train-images-idx3-ubyte.gz\n",
      "WARNING:tensorflow:From /data/greyostrich/not-backed-up/aims/aimsre/pduckwor/python-virtual-envs/keras_tf/lib64/python3.6/site-packages/tensorflow/contrib/learn/python/learn/datasets/mnist.py:267: extract_labels (from tensorflow.contrib.learn.python.learn.datasets.mnist) is deprecated and will be removed in a future version.\n",
      "Instructions for updating:\n",
      "Please use tf.data to implement this functionality.\n",
      "Extracting MNIST_data/train-labels-idx1-ubyte.gz\n",
      "WARNING:tensorflow:From /data/greyostrich/not-backed-up/aims/aimsre/pduckwor/python-virtual-envs/keras_tf/lib64/python3.6/site-packages/tensorflow/contrib/learn/python/learn/datasets/mnist.py:110: dense_to_one_hot (from tensorflow.contrib.learn.python.learn.datasets.mnist) is deprecated and will be removed in a future version.\n",
      "Instructions for updating:\n",
      "Please use tf.one_hot on tensors.\n",
      "Extracting MNIST_data/t10k-images-idx3-ubyte.gz\n",
      "Extracting MNIST_data/t10k-labels-idx1-ubyte.gz\n",
      "WARNING:tensorflow:From /data/greyostrich/not-backed-up/aims/aimsre/pduckwor/python-virtual-envs/keras_tf/lib64/python3.6/site-packages/tensorflow/contrib/learn/python/learn/datasets/mnist.py:290: DataSet.__init__ (from tensorflow.contrib.learn.python.learn.datasets.mnist) is deprecated and will be removed in a future version.\n",
      "Instructions for updating:\n",
      "Please use alternatives such as official/mnist/dataset.py from tensorflow/models.\n"
     ]
    },
    {
     "data": {
      "text/plain": [
       "((55000, 784), (10000, 784), (10000, 10))"
      ]
     },
     "execution_count": 10,
     "metadata": {},
     "output_type": "execute_result"
    }
   ],
   "source": [
    "mnist = input_data.read_data_sets('MNIST_data', one_hot=True)\n",
    "X_train, y_train = mnist.train.images, mnist.train.labels\n",
    "X_test, y_test = mnist.test.images, mnist.test.labels\n",
    "\n",
    "X_train.shape, X_test.shape, y_test.shape "
   ]
  },
  {
   "cell_type": "code",
   "execution_count": 11,
   "metadata": {},
   "outputs": [
    {
     "name": "stdout",
     "output_type": "stream",
     "text": [
      "Train on 49500 samples, validate on 5500 samples\n",
      "Epoch 1/30\n",
      "49500/49500 [==============================] - 6s 113us/step - loss: 522.6345 - val_loss: 430.2796\n",
      "Epoch 2/30\n",
      "49500/49500 [==============================] - 5s 104us/step - loss: 431.6260 - val_loss: 430.2779\n",
      "Epoch 3/30\n",
      "49500/49500 [==============================] - 5s 103us/step - loss: 431.6252 - val_loss: 430.2776\n",
      "Epoch 4/30\n",
      "49500/49500 [==============================] - 5s 104us/step - loss: 431.6250 - val_loss: 430.2774\n",
      "Epoch 5/30\n",
      "49500/49500 [==============================] - 5s 97us/step - loss: 431.6249 - val_loss: 430.2774\n",
      "Epoch 6/30\n",
      "49500/49500 [==============================] - 4s 84us/step - loss: 431.6249 - val_loss: 430.2773\n",
      "Epoch 7/30\n",
      "49500/49500 [==============================] - 4s 83us/step - loss: 431.6248 - val_loss: 430.2773\n",
      "Epoch 8/30\n",
      "49500/49500 [==============================] - 4s 91us/step - loss: 431.6248 - val_loss: 430.2773\n",
      "Epoch 9/30\n",
      "49500/49500 [==============================] - 5s 100us/step - loss: 431.6248 - val_loss: 430.2773\n",
      "Epoch 10/30\n",
      "49500/49500 [==============================] - 5s 105us/step - loss: 431.6248 - val_loss: 430.2773\n",
      "Epoch 11/30\n",
      "49500/49500 [==============================] - 5s 94us/step - loss: 431.6248 - val_loss: 430.2773\n",
      "Epoch 12/30\n",
      "49500/49500 [==============================] - 4s 87us/step - loss: 431.6248 - val_loss: 430.2773\n",
      "Epoch 13/30\n",
      "49500/49500 [==============================] - 4s 85us/step - loss: 431.6248 - val_loss: 430.2773\n",
      "Epoch 14/30\n",
      "49500/49500 [==============================] - 4s 84us/step - loss: 431.6248 - val_loss: 430.2773\n",
      "Epoch 15/30\n",
      "49500/49500 [==============================] - 4s 83us/step - loss: 431.6248 - val_loss: 430.2773\n",
      "Epoch 16/30\n",
      "49500/49500 [==============================] - 5s 97us/step - loss: 431.6248 - val_loss: 430.2773\n",
      "Epoch 17/30\n",
      "49500/49500 [==============================] - 5s 105us/step - loss: 431.6248 - val_loss: 430.2773\n",
      "Epoch 18/30\n",
      "49500/49500 [==============================] - 5s 105us/step - loss: 431.6248 - val_loss: 430.2773\n",
      "Epoch 19/30\n",
      "49500/49500 [==============================] - 5s 106us/step - loss: 431.6248 - val_loss: 430.2773\n",
      "Epoch 20/30\n",
      "49500/49500 [==============================] - 5s 104us/step - loss: 431.6248 - val_loss: 430.2773\n",
      "Epoch 21/30\n",
      "49500/49500 [==============================] - 5s 105us/step - loss: 431.6248 - val_loss: 430.2773\n",
      "Epoch 22/30\n",
      "49500/49500 [==============================] - 5s 95us/step - loss: 431.6248 - val_loss: 430.2773\n",
      "Epoch 23/30\n",
      "49500/49500 [==============================] - 4s 84us/step - loss: 431.6248 - val_loss: 430.2773\n",
      "Epoch 24/30\n",
      "49500/49500 [==============================] - 4s 86us/step - loss: 431.6248 - val_loss: 430.2773\n",
      "Epoch 25/30\n",
      "49500/49500 [==============================] - 5s 92us/step - loss: 431.6249 - val_loss: 430.2773\n",
      "Epoch 26/30\n",
      "49500/49500 [==============================] - 5s 106us/step - loss: 431.6248 - val_loss: 430.2773\n",
      "Epoch 27/30\n",
      "49500/49500 [==============================] - 5s 104us/step - loss: 431.6248 - val_loss: 430.2773\n",
      "Epoch 28/30\n",
      "49500/49500 [==============================] - 5s 104us/step - loss: 431.6248 - val_loss: 430.2773\n",
      "Epoch 29/30\n",
      "49500/49500 [==============================] - 5s 108us/step - loss: 431.6248 - val_loss: 430.2773\n",
      "Epoch 30/30\n",
      "49500/49500 [==============================] - 5s 94us/step - loss: 431.6248 - val_loss: 430.2773\n"
     ]
    },
    {
     "data": {
      "text/plain": [
       "<keras.callbacks.History at 0x7f8ad071bdd8>"
      ]
     },
     "execution_count": 11,
     "metadata": {},
     "output_type": "execute_result"
    }
   ],
   "source": [
    "vae.compile(optimizer='adam', loss=vae_loss)\n",
    "vae.fit(X_train, X_train, batch_size=m, epochs=30, validation_split=0.1)"
   ]
  },
  {
   "cell_type": "code",
   "execution_count": 13,
   "metadata": {},
   "outputs": [
    {
     "data": {
      "text/plain": [
       "(10000, 2)"
      ]
     },
     "execution_count": 13,
     "metadata": {},
     "output_type": "execute_result"
    }
   ],
   "source": [
    "encoded = encoder.predict(X_test, batch_size=m)\n",
    "encoded.shape"
   ]
  },
  {
   "cell_type": "markdown",
   "metadata": {},
   "source": [
    "Visualize the 2D Encoded variables"
   ]
  },
  {
   "cell_type": "code",
   "execution_count": 14,
   "metadata": {},
   "outputs": [
    {
     "data": {
      "text/plain": [
       "array([[ 8.3701685e-05, -4.8831105e-05],\n",
       "       [ 8.8079832e-04, -3.0621886e-05],\n",
       "       [-4.7341175e-04, -1.7967820e-04],\n",
       "       ...,\n",
       "       [ 2.0148419e-04, -1.1703372e-04],\n",
       "       [ 2.1390431e-04,  2.2023916e-05],\n",
       "       [ 1.0236260e-03, -1.3598800e-04]], dtype=float32)"
      ]
     },
     "execution_count": 14,
     "metadata": {},
     "output_type": "execute_result"
    }
   ],
   "source": [
    "encoded"
   ]
  },
  {
   "cell_type": "code",
   "execution_count": 15,
   "metadata": {},
   "outputs": [
    {
     "data": {
      "image/png": "[encoded data removed]",
      "text/plain": [
       "<Figure size 864x720 with 2 Axes>"
      ]
     },
     "metadata": {
      "needs_background": "light"
     },
     "output_type": "display_data"
    }
   ],
   "source": [
    "plt.figure(figsize=(12, 10))\n",
    "plt.scatter(encoded[:, 0], encoded[:, 1], c=np.argmax(y_test, axis=1), cmap='tab10')\n",
    "plt.colorbar()\n",
    "plt.xlabel(\"z[0]\")\n",
    "plt.ylabel(\"z[1]\")\n",
    "plt.show()"
   ]
  },
  {
   "cell_type": "code",
   "execution_count": 16,
   "metadata": {},
   "outputs": [],
   "source": [
    "X_recons = vae.predict(X_test, batch_size=m)\n",
    "# visualize(X_test_subset, X_recons)"
   ]
  },
  {
   "cell_type": "code",
   "execution_count": 17,
   "metadata": {},
   "outputs": [
    {
     "data": {
      "image/png": "[encoded data removed]",
      "text/plain": [
       "<Figure size 1440x288 with 20 Axes>"
      ]
     },
     "metadata": {
      "needs_background": "light"
     },
     "output_type": "display_data"
    }
   ],
   "source": [
    "n = 10    # how many digits we will display\n",
    "plt.figure(figsize=(20, 4))\n",
    "for i in range(n):\n",
    "    # display original\n",
    "    ax = plt.subplot(2, n, i + 1)\n",
    "    plt.imshow(X_test[i].reshape(28, 28))\n",
    "    plt.gray()\n",
    "    ax.get_xaxis().set_visible(False)\n",
    "    ax.get_yaxis().set_visible(False)\n",
    "\n",
    "    # display reconstruction\n",
    "    ax = plt.subplot(2, n, i + 1 + n)\n",
    "    plt.imshow(X_recons[i].reshape(28, 28))\n",
    "    plt.gray()\n",
    "    ax.get_xaxis().set_visible(False)\n",
    "    ax.get_yaxis().set_visible(False)\n",
    "plt.show()"
   ]
  },
  {
   "cell_type": "code",
   "execution_count": 18,
   "metadata": {},
   "outputs": [
    {
     "name": "stdout",
     "output_type": "stream",
     "text": [
      "[[ 0.2290336  -0.10181502]\n",
      " [-0.30255279 -1.63154503]\n",
      " [-0.72537246  0.41369429]\n",
      " [ 0.54900832  1.0527252 ]\n",
      " [ 2.12431362  1.55556259]\n",
      " [-1.4386442   1.3551553 ]\n",
      " [-0.19912464  1.62678737]\n",
      " [-1.45946284 -0.38434237]\n",
      " [-1.72436881 -1.47168184]\n",
      " [ 1.71907282 -1.03860621]]\n"
     ]
    },
    {
     "data": {
      "image/png": "[encoded data removed]",
      "text/plain": [
       "<Figure size 1440x288 with 10 Axes>"
      ]
     },
     "metadata": {
      "needs_background": "light"
     },
     "output_type": "display_data"
    }
   ],
   "source": [
    "# Generating new samples from latent space; P(X|z,y) visualization\n",
    "y_label = 1\n",
    "\n",
    "z_sample = np.random.randn(n, n_z)\n",
    "print(z_sample)\n",
    "\n",
    "y = np.zeros(shape=(n, y_test.shape[0]))\n",
    "y[:, y_label] = 1\n",
    "\n",
    "\n",
    "X_gen = decoder.predict(z_sample)\n",
    "\n",
    "plt.figure(figsize=(20, 4))\n",
    "\n",
    "for i in range(1, n+1):\n",
    "    ax = plt.subplot(1, n, i)\n",
    "    plt.imshow(X_gen[i-1].reshape(28, 28), cmap='Greys_r')\n",
    "    ax.get_xaxis().set_visible(False)\n",
    "    ax.get_yaxis().set_visible(False)\n",
    "plt.show()"
   ]
  },
  {
   "cell_type": "code",
   "execution_count": null,
   "metadata": {},
   "outputs": [],
   "source": []
  }
 ],
 "metadata": {
  "kernelspec": {
   "display_name": "Python 3",
   "language": "python",
   "name": "python3"
  },
  "language_info": {
   "codemirror_mode": {
    "name": "ipython",
    "version": 3
   },
   "file_extension": ".py",
   "mimetype": "text/x-python",
   "name": "python",
   "nbconvert_exporter": "python",
   "pygments_lexer": "ipython3",
   "version": "3.6.6"
  }
 },
 "nbformat": 4,
 "nbformat_minor": 2
}
