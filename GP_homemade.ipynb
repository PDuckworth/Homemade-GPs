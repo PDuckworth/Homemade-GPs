{
 "cells": [
  {
   "cell_type": "markdown",
   "metadata": {},
   "source": [
    "### Homemade Python GP implementation \n",
    "---\n",
    "\n",
    "By Paul Duckworth\n",
    "\n",
    "Clearly, the book to look at is Chapter 2 of [Rasmussen and Williams 2006](http://www.gaussianprocess.org/gpml/chapters/RW.pdf), plus other useful material on GPs can be found in [these](https://www.youtube.com/watch?v=MfHKW5z-OOA&list=PLE6Wd9FR--EdyJ5lbFl8UuGjecvVw66F6&index=9) video lectures, with Gaussian Basics described [here](https://www.youtube.com/watch?v=4vGiHC35j9s&index=8&list=PLE6Wd9FR--EdyJ5lbFl8UuGjecvVw66F6)."
   ]
  },
  {
   "cell_type": "markdown",
   "metadata": {},
   "source": [
    "A Gaussian Distribution: $$ \\boldsymbol{f} = (f_1, \\dots, f_n) \\sim \\mathcal{N}(\\mu, \\Sigma), \\text{ for \n",
    "} i = 1, \\dots, n.$$\n",
    "\n",
    "A Gaussian Process: $$ f(\\boldsymbol{x}) = GP(m(\\boldsymbol{x}), k(\\boldsymbol{x}, \\boldsymbol{x}')),$$\n",
    "\n",
    "with mean function:\n",
    "$$m(\\boldsymbol{x}) = \\mathbb{E}[f(\\boldsymbol{x})],$$ \n",
    "\n",
    "and covariance function: \n",
    "$$k(\\boldsymbol{x}, \\boldsymbol{x}') = \\mathbb{E}[ (f(\\boldsymbol{x}) - m(\\boldsymbol{x})) - (f(\\boldsymbol{x'}) - m(\\boldsymbol{x'}))^{T}]. $$"
   ]
  },
  {
   "cell_type": "markdown",
   "metadata": {},
   "source": [
    "**Definition**: A GP is a colleciton of random variables, any finite number of which have a consistent Gaussian Distribution. "
   ]
  },
  {
   "cell_type": "code",
   "execution_count": 1,
   "metadata": {},
   "outputs": [
    {
     "name": "stderr",
     "output_type": "stream",
     "text": [
      "/home/paul/Documents/Oxford/anaconda2/lib/python2.7/site-packages/IPython/html.py:14: ShimWarning: The `IPython.html` package has been deprecated since IPython 4.0. You should import from `notebook` instead. `IPython.html.widgets` has moved to `ipywidgets`.\n",
      "  \"`IPython.html.widgets` has moved to `ipywidgets`.\", ShimWarning)\n"
     ]
    },
    {
     "data": {
      "image/png": "[encoded data removed]",
      "text/plain": [
       "<matplotlib.figure.Figure at 0x7fb67049abd0>"
      ]
     },
     "metadata": {},
     "output_type": "display_data"
    }
   ],
   "source": [
    "from __future__ import division\n",
    "import numpy as np\n",
    "import matplotlib.pyplot as plt\n",
    "\n",
    "from IPython.html.widgets import interact, fixed\n",
    "from ipywidgets import widgets\n",
    "from IPython.display import display\n",
    "from IPython.display import clear_output\n",
    "\n",
    "# We first need a true (and unknown) function with which to approximate using a GP:\n",
    "f = lambda x: np.sin(0.9*x).flatten()\n",
    "#f = lambda x: (0.25*(x**2)).flatten()\n",
    "\n",
    "# We need some observed data points from that function: \n",
    "\n",
    "N = 5            # number of training points.\n",
    "s = 0.1          # noise variance.\n",
    "\n",
    "# Sample some input points and noisy versions of the function evaluated at these points. \n",
    "X = np.random.uniform(-5, 5, size=(N,1))\n",
    "y = f(X) + s*np.random.randn(N)\n",
    "\n",
    "plt.scatter(X, y, c= \"b\")\n",
    "plt.xlabel(\"input x\"), plt.ylabel(\"noisey output y\"), plt.title(\"Observed Data\")\n",
    "plt.axis([-5, 5, -3, 3])\n",
    "plt.show()"
   ]
  },
  {
   "cell_type": "code",
   "execution_count": 2,
   "metadata": {
    "collapsed": true
   },
   "outputs": [],
   "source": [
    "# Define the x-axis points that we're going to make predictions at. \n",
    "n = 50\n",
    "Xtest = np.linspace(-5, 5, n).reshape(-1,1)"
   ]
  },
  {
   "cell_type": "markdown",
   "metadata": {},
   "source": [
    "Kernel\n",
    "---\n",
    "\n",
    "First, specify a kernel, such as an exponentiated quadratic kernel (RBF): \n",
    "\n",
    "$$ k(x, x') = \\sigma^{2}_{f} exp (-\\frac{1}{2l^2}(x - x')^2), $$ \n",
    "where $\\sigma$ is the variance and $l$ the length hyperparameter.\n",
    "\n",
    "The kernel specifies the prior belief that we want smooth functions, i.e. close by x's are close in y. "
   ]
  },
  {
   "cell_type": "code",
   "execution_count": 3,
   "metadata": {},
   "outputs": [],
   "source": [
    "def kernel(a,b):\n",
    "    \"\"\"GP squared exponential kernel with sigma = 1\"\"\"\n",
    "    length_param = 1.0\n",
    "    sqdist = np.sum(a**2,1).reshape(-1,1) + np.sum(b**2,1) - 2*np.dot(a, b.T)\n",
    "    return np.exp(-.5 * (1/length_param) * sqdist)\n",
    "\n",
    "def annotate(K):\n",
    "    \"\"\"Annotate confusion matrix with values\"\"\"\n",
    "    width, height = K.shape\n",
    "    for x in xrange(width):\n",
    "        for y in xrange(height):\n",
    "            plt.annotate(\"%0.2f\" % K[x][y], xy=(y, x), horizontalalignment='center', verticalalignment='center')\n",
    "\n",
    "K = kernel(X, X)\n",
    "Kstar= kernel(X, Xtest)\n",
    "Kstarstar = kernel(Xtest, Xtest)\n",
    "\n",
    "button_k    = widgets.Button(description=\"Plot Kernel\")\n",
    "button_off  = widgets.Button(description=\"Hide Kernel\")\n",
    "\n",
    "display(button_k), display(button_off)    # dislay the two buttons\n",
    "\n",
    "def on_button_clicked(a): \n",
    "    clear_output()\n",
    "    plt.imshow(K, interpolation='nearest')#, cmap=plt.cm.Blues)\n",
    "    annotate(K)   # don't annotate cells :) \n",
    "    plt.colorbar()\n",
    "    plt.show()\n",
    "\n",
    "def off_button_clicked(a): clear_output()\n",
    "\n",
    "button_k.on_click(on_button_clicked)\n",
    "button_off.on_click(off_button_clicked)"
   ]
  },
  {
   "cell_type": "markdown",
   "metadata": {},
   "source": [
    "Prior\n",
    "---\n",
    "\n",
    "Define a range of test points along x-axis, and use the kernel and the cholesky decomposition (for inverting K), in order to draw samples from the prior using:\n",
    "$$f_i \\sim \\mathcal{N}(0_N, K_{N \\times N}),$$\n",
    "where \n",
    "$$K_{N \\times N} = k(X, X). $$\n",
    "\n",
    "This defines a positive definite matrix $K$ which can be decomposed: $$ K = LL^T,$$ leading to: $$f_i \\sim \\mathcal{N}(0_N, I_{N\\times N})\\times L ,$$\n",
    "where $L$ is a lower tri-matrix from the cholesky decomposition. \n"
   ]
  },
  {
   "cell_type": "code",
   "execution_count": 4,
   "metadata": {},
   "outputs": [],
   "source": [
    "### draw samples from the prior at test points\n",
    "\n",
    "L = np.linalg.cholesky(Kstarstar + 1e-6*np.eye(n))\n",
    "\n",
    "button_prior = widgets.Button(description=\"Draws from Prior\")\n",
    "button_off  = widgets.Button(description=\"Hide Priors\")\n",
    "\n",
    "display(button_prior), display(button_off)    # dislay the two buttons\n",
    "\n",
    "def plot_prior(f_prior):\n",
    "    plt.plot(Xtest, f_prior)\n",
    "    plt.title(\"Three samples from the GP prior\"), plt.xlabel('x'), plt.ylabel(\"k(x,x')\")\n",
    "    plt.show()\n",
    "\n",
    "def on_button_clicked(a): \n",
    "    rand = np.random.normal(size=(n,3))         # random draws of length n\n",
    "    f_prior = np.dot(L, rand)\n",
    "    plt.clf()\n",
    "    plt.axis([-5, 5, -3, 3])\n",
    "    plot_prior(f_prior)\n",
    "\n",
    "def off_button_clicked(a): \n",
    "    clear_output()\n",
    "\n",
    "button_prior.on_click(on_button_clicked)\n",
    "button_off.on_click(off_button_clicked)"
   ]
  },
  {
   "cell_type": "markdown",
   "metadata": {},
   "source": [
    "Posterior \n",
    "---\n",
    "\n",
    "Given some data $\\mathcal{D} = \\{ (\\boldsymbol{x}_i, f_i), i = 1:N\\}$ where $ f_i = f(\\boldsymbol{x}_i)$. \n",
    "\n",
    "Then the noise-free joint distribution of the training outputs $\\boldsymbol{f}$ and the test outputs $\\boldsymbol{f_{*}}$can be specified as:\n",
    "\n",
    "$$\n",
    "\\begin{pmatrix} \n",
    "\\boldsymbol{f}   \\\\ \n",
    "\\boldsymbol{f}_{*}  \\\\ \n",
    "\\end{pmatrix} \\sim \\mathcal{N} \n",
    "\\begin{pmatrix} \n",
    "    \\begin{pmatrix} \n",
    "        \\boldsymbol{\\mu}   \\\\ \n",
    "        \\boldsymbol{\\mu}_{*}  \\\\ \n",
    "    \\end{pmatrix},\n",
    "    \\begin{pmatrix} \n",
    "        K       &  K_{*}  \\\\ \n",
    "        K_{*}^T &  K_{**} \\\\ \n",
    "    \\end{pmatrix}\n",
    "\\end{pmatrix}\n",
    "$$\n",
    "\n",
    "Then the posterior is defined by conditioning on the observed data $\\mathcal{D}$: \n",
    "\n",
    "$$\n",
    "p(\\boldsymbol{f}_{*} \\mid X_{*}, X, \\boldsymbol{f})  = \n",
    "    \\mathcal{N}(\\boldsymbol{f}_{*} \\mid \\boldsymbol{\\mu}_{*}, \\Sigma_{*}), \n",
    "$$\n",
    "    \n",
    "where:\n",
    "$$\n",
    "\\begin{align}    \n",
    "\\boldsymbol{\\mu}_{*} & =  \\boldsymbol{\\mu}(X_{*}) + K_{*}^T K^{-1} (\\boldsymbol{f} - \\boldsymbol{\\mu}(X))\\\\\n",
    "\\Sigma_{*}           & = K_{**} - K_{*}^T K^{-1}K_{*}\n",
    "\\end{align}\n",
    "$$\n",
    "\n",
    "\n",
    "With added noise on the observed training points, this joint distribution can be altered to: \n",
    "\n",
    "$$\n",
    "\\begin{pmatrix} \n",
    "\\boldsymbol{y}   \\\\ \n",
    "\\boldsymbol{f}_{*}  \\\\ \n",
    "\\end{pmatrix} \\sim \\mathcal{N} \n",
    "\\begin{pmatrix} \n",
    "    \\begin{pmatrix} \n",
    "        \\boldsymbol{\\mu}   \\\\ \n",
    "        \\boldsymbol{\\mu}_{*}  \\\\ \n",
    "    \\end{pmatrix},\n",
    "    \\begin{pmatrix} \n",
    "        K + \\sigma_n^2 I      &  K_{*}  \\\\ \n",
    "        K_{*}^T &  K_{**}\\\\\n",
    "    \\end{pmatrix}\n",
    "\\end{pmatrix}, \n",
    "$$\n",
    "where $y = f(\\boldsymbol{x}) + \\epsilon$ where there is added iid Gaussian noise $\\epsilon$ with variance $\\sigma_n^2 I$. "
   ]
  },
  {
   "cell_type": "code",
   "execution_count": 6,
   "metadata": {
    "scrolled": false
   },
   "outputs": [
    {
     "data": {
      "image/png": "[encoded data removed]",
      "text/plain": [
       "<matplotlib.figure.Figure at 0x7fb66cb162d0>"
      ]
     },
     "metadata": {},
     "output_type": "display_data"
    }
   ],
   "source": [
    "# compute the mean at each of our (x-axis) test points.\n",
    "\n",
    "# decompose K (instead of inversion)\n",
    "L = np.linalg.cholesky(K + s*np.eye(N))   # Notice the gaussian noise term added to K. (Ky)\n",
    "\n",
    "# solve for m where: L*m = y\n",
    "m = np.linalg.solve(L, y)\n",
    "\n",
    "# solve for alpha where: L.T*alpha = m\n",
    "alpha = np.linalg.solve(L.T, m)\n",
    "\n",
    "mu = np.dot(Kstar.T, alpha)\n",
    "\n",
    "plt.plot(X, y, 'r+', ms=20)             # 10 observed data points  (red)\n",
    "plt.plot(Xtest, f(Xtest), 'b-')         # actual true process creating the data (blue)\n",
    "plt.plot(Xtest, mu, 'r--', lw=2)       # mean function \\mu   (red)\n",
    "plt.axis([-5, 5, -3, 3])\n",
    "\n",
    "# compute the variance at our test points - each point along the x-axis.\n",
    "\n",
    "# solve for v where: Lv = Kstar\n",
    "v = np.linalg.solve(L, Kstar)  \n",
    "\n",
    "var = np.diag(Kstarstar) - np.sum(v**2, axis=0)\n",
    "std = np.sqrt(var)\n",
    "plt.gca().fill_between(Xtest.flat, mu-3*std, mu+3*std, color=\"#dddddd\")\n",
    "\n",
    "plt.xlabel('input x'),plt.ylabel('output f(x)')\n",
    "plt.legend(['obeserved', 'true func', 'mean func', '3 std'])\n",
    "plt.title('Mean predictions plus 3 st.deviations')\n",
    "\n",
    "plt.show()"
   ]
  },
  {
   "cell_type": "markdown",
   "metadata": {},
   "source": [
    "Let's explain what we just did: \n",
    "--- \n",
    "\n",
    "Since, the mean function $\\boldsymbol{\\mu}_{*} =  \\boldsymbol{\\mu}(X_{*}) + K_{*}^T K^{-1} (\\boldsymbol{f} - \\boldsymbol{\\mu}(X))$ but we don't want to invert K we do the following: \n",
    "\n",
    "Cholesky says: $K = LL^T$ and Inverse Cholesky: $ K^{-1}y = L^{-T}L^{-1}y$. \n",
    "\n",
    "So, we let $\\alpha = K^{-1} \\boldsymbol{f}$, then $\\boldsymbol{\\mu}_{*} = K_{*}^T  \\alpha$ when we are assuming a zero mean function.\n",
    "\n",
    "Then, we let $m = L^{-1} \\boldsymbol{f}$ and if that's true, it follows that $ Lm = \\boldsymbol{f}$, and so we solve for $m$. \n",
    "\n",
    "Then, if $\\alpha = K^{-1} \\boldsymbol{f} = L^{-T}L^{-1}\\boldsymbol{f} = L^{-T} m$, then it also follows that $L^{T}\\alpha = m$ and so we solve for $\\alpha$.\n",
    "\n",
    "\n",
    "For the Variance,  $Var[\\boldsymbol{f_{*}}] = K_{**} - K_{*}^T K^{-1}K_{*}$, again letting $K^{-1} = L^{-T}L^{-1}$, so $K_{*}^T K^{-1}K_{*} = (K_{*}^T L^{-T}) (L^{-1} K_{*})$ where we can solve for $\\boldsymbol{v}$ in $L\\boldsymbol{v} = K_{*}$ and reduce to $\\boldsymbol{v}^{T}\\boldsymbol{v}$. \n",
    "\n"
   ]
  },
  {
   "cell_type": "markdown",
   "metadata": {},
   "source": [
    "Predictive Distribution\n",
    "---\n",
    "\n",
    "Commonly a zero mean function is used, and the key predictive equations for GPs reduce to:\n",
    "\n",
    "$$\n",
    "p(\\boldsymbol{f}_{*} \\mid X_{*}, X, \\boldsymbol{y}) = \n",
    "    \\mathcal{N}(\\boldsymbol{\\bar f}_{*}, cov(\\boldsymbol{f}_{*})), \n",
    "$$\n",
    "\n",
    "where:\n",
    "$$\n",
    "\\begin{align}    \n",
    "\\boldsymbol{\\bar f}_{*} &  = \\mathbb{E}[\\boldsymbol{f}_{*} \\mid X, \\boldsymbol{y}, X_{*}] = \n",
    "  K_{*}^T[K + \\sigma^2_n I]^{-1}\\boldsymbol{y} , \\\\\n",
    "cov(\\boldsymbol{f}_{*}) & = K_{**} - K_{*}^T [K + \\sigma^2_n I]^{-1}K_{*}. \n",
    "\\end{align}\n",
    "$$\n",
    "\n",
    "\n"
   ]
  },
  {
   "cell_type": "markdown",
   "metadata": {},
   "source": [
    "Draw samples from posterior\n",
    "--- \n",
    "\n",
    "From $\n",
    "p(\\boldsymbol{f}_{*} \\mid X_{*}, X, \\boldsymbol{f})  = \n",
    "    \\mathcal{N}(\\boldsymbol{f}_{*} \\mid \\boldsymbol{\\mu}_{*}, \\Sigma_{*}), $ \n",
    "we can draw samples, by again using Cholesky factorisation, and a random number generator. \n"
   ]
  },
  {
   "cell_type": "code",
   "execution_count": 167,
   "metadata": {
    "scrolled": true
   },
   "outputs": [
    {
     "data": {
      "image/png": "[encoded data removed]",
      "text/plain": [
       "<matplotlib.figure.Figure at 0x7f01331d9b10>"
      ]
     },
     "metadata": {},
     "output_type": "display_data"
    }
   ],
   "source": [
    "# Draw samples from the posterior - at our test points.\n",
    "post = Kstarstar + 1e-6*np.eye(n) - np.dot(v.T, v)\n",
    "L = np.linalg.cholesky(post)          \n",
    "f_post = mu.reshape(-1,1) + np.dot(L, np.random.normal(size=(n,5)))\n",
    "\n",
    "plt.clf()\n",
    "plt.plot(Xtest, f_post)\n",
    "plt.xlabel('input x'), plt.ylabel('output f(x)')\n",
    "plt.title('Five samples from the GP posterior')\n",
    "plt.show()"
   ]
  },
  {
   "cell_type": "markdown",
   "metadata": {},
   "source": [
    "Log Marginal Likelihood\n",
    "---\n",
    "\n",
    "The marginal likelihood $p(\\boldsymbol{y} \\mid X)$ (or evidence) is the integral of the likelihood times prior: \n",
    "$$\n",
    "p(\\boldsymbol{y} \\mid X) = \\int p(\\boldsymbol{y} \\mid \\boldsymbol{f}, X)p(\\boldsymbol{f} \\mid X) d\\boldsymbol{f}.\n",
    "$$\n",
    "\n",
    "Given the prior is Gaussian: $\\boldsymbol{f} \\mid X \\sim \\mathcal{N}(0, K)$, and the likelihood is a factorised Gaussian: $ \\boldsymbol{y} \\mid \\boldsymbol{f} \\sim \\mathcal{N}(\\boldsymbol{f}, \\sigma^2_n I) $, then it follows that the log marginal likelihood is also Gaussian: $ \\boldsymbol{y} \\sim \\mathcal{N}(0, K + \\sigma^2_n I) $, and is:\n",
    "$$\n",
    "log p(\\boldsymbol{y} \\mid X) = -\\frac{1}{2}\\boldsymbol{y}^T (K+\\sigma^2_n I)^{-1} - \\frac{1}{2}log \\mid K+\\sigma^2_n I \\mid - \\frac{n}{2}log2\\pi .\n",
    "$$\n",
    "\n",
    "This can be computed: \n",
    "$$\n",
    " = -\\frac{1}{2}\\boldsymbol{y}^T\\boldsymbol{\\alpha} - \\sum_i log L_{ii} - \\frac{n}{2}log2\\pi \n",
    "$$"
   ]
  },
  {
   "cell_type": "code",
   "execution_count": 19,
   "metadata": {},
   "outputs": [
    {
     "name": "stdout",
     "output_type": "stream",
     "text": [
      "-5.95462273019\n"
     ]
    }
   ],
   "source": [
    "LML = -0.5*np.dot(y.T, alpha) - sum(np.log(np.diag(L))) - 0.5*N*np.log(2*np.pi)\n",
    "print LML"
   ]
  },
  {
   "cell_type": "markdown",
   "metadata": {},
   "source": [
    "Optimisation\n",
    "---\n",
    "\n",
    "The hyperparameters of the kernel can be optimized by maximizing the log-marginal-likelihood (LML).\n",
    "\n",
    "Note, the LML may have multiple local optima. "
   ]
  },
  {
   "cell_type": "markdown",
   "metadata": {},
   "source": [
    "Hyperparameters\n",
    "---\n",
    "\n",
    "We can vary the kernel hyperparameters and see what happens to the Prior and Posterior distributions..."
   ]
  },
  {
   "cell_type": "code",
   "execution_count": 169,
   "metadata": {},
   "outputs": [
    {
     "data": {
      "application/vnd.jupyter.widget-view+json": {
       "model_id": "b6d5265c1e744867bfced61233fa229d"
      }
     },
     "metadata": {},
     "output_type": "display_data"
    }
   ],
   "source": [
    "def new_kernel(a,b,l=1.0,sig=1.0):\n",
    "    \"\"\"GP squared exponential kernel\"\"\"\n",
    "    sqdist = np.sum(a**2,1).reshape(-1,1) + np.sum(b**2,1) - 2*np.dot(a, b.T)\n",
    "    k = (sig**2)*np.exp(-.5 * (1/l) * sqdist)\n",
    "    return k\n",
    "\n",
    "def wrap(length, sigma_f):\n",
    "    K = new_kernel(X,X,length,sigma_f)\n",
    "    Kstar = new_kernel(X, Xtest,length,sigma_f)\n",
    "    Kstarstar = new_kernel(Xtest, Xtest,length,sigma_f)\n",
    "\n",
    "    # draws from Prior distribution \n",
    "    L = np.linalg.cholesky(Kstarstar + s*np.eye(n))\n",
    "    rand = np.random.normal(size=(n,3)) \n",
    "    f_prior = np.dot(L, rand)\n",
    "\n",
    "    # compute the Posterior distribution (mean and covariance)\n",
    "    L = np.linalg.cholesky(K + s*np.eye(N))\n",
    "    m = np.linalg.solve(L, y)\n",
    "    alpha = np.linalg.solve(L.T, m)\n",
    "    mu = np.dot(Kstar.T, alpha)\n",
    "\n",
    "    v = np.linalg.solve(L, Kstar)  \n",
    "    var = np.diag(Kstarstar) - np.sum(v**2, axis=0)\n",
    "    std = np.sqrt(var)\n",
    "\n",
    "    # draws from Posterior distribution \n",
    "    post = Kstarstar + 1e-6*np.eye(n) - np.dot(v.T, v)\n",
    "    L = np.linalg.cholesky(post)          \n",
    "    f_post = mu.reshape(-1,1) + np.dot(L, np.random.normal(size=(n,5)))\n",
    "   \n",
    "\n",
    "    fig, (ax1, ax2, ax3) = plt.subplots(1, 3, figsize=(20, 6))\n",
    "    ax1.axis([-5, 5, -3, 3])\n",
    "    ax1.set_xlabel(\"x\"),ax1.set_ylabel(\"k(x,x')\"), ax1.set_title(\"Three samples from the GP prior\")\n",
    "    ax1.plot(Xtest, f_prior)\n",
    "    \n",
    "    ax2.axis([-5, 5, -3, 3])\n",
    "    ax2.plot(X, y, 'r+', ms=20)            \n",
    "    ax2.plot(Xtest, f(Xtest), 'b-')        \n",
    "    ax2.plot(Xtest, mu, 'r--', lw=2)\n",
    "    ax2.fill_between(Xtest.flat, mu-3*std, mu+3*std, color=\"#dddddd\")\n",
    "    ax2.set_xlabel(\"x\"), ax2.set_ylabel(\"f(x)\"), ax2.set_title(\"Mean predictions plus 3 st.deviations\")\n",
    "    ax2.legend(['obeserved', 'true func', 'mean func', '3 std'])\n",
    "    \n",
    "    ax3.axis([-5, 5, -3, 3])\n",
    "    ax3.plot(Xtest, f_post)\n",
    "    ax3.set_xlabel(\"x\"), ax2.set_ylabel(\"f(x)\"), ax2.set_title(\"Five samples from the GP posterior\")   \n",
    "\n",
    "    plt.show()\n",
    "\n",
    "\n",
    "interact(wrap, length=(0.01,10,0.01), sigma_f=(0.01,5,0.1));\n"
   ]
  },
  {
   "cell_type": "markdown",
   "metadata": {},
   "source": [
    "Basis Function Interpretation\n",
    "---\n",
    "\n",
    "Given a single test point $\\boldsymbol{x}_*$: \n",
    "$$\n",
    "p(f_{*} \\mid \\boldsymbol{x}_{*}, X, \\boldsymbol{y}) = \n",
    "    \\mathcal{N}(f_{*} \\mid K_{*}^T K_y^{-1}\\boldsymbol{y}, k_{**} - K_{*}^T K_y^{-1}K_{*}), \n",
    "$$\n",
    "\n",
    "where:\n",
    "$K_y = K + \\sigma^2_n I$ and often $ k_{**} = 1$. \n",
    "\n",
    "Then the mean can be re-written:\n",
    "\n",
    "$$\n",
    "\\bar f_{*} = K_{*}^T K_y^{-1}\\boldsymbol{y} = \\sum_{i=1}^{N} \\alpha_i k(\\boldsymbol{x}_i, \\boldsymbol{x}_*)\n",
    "$$\n",
    "where $\\alpha = K_y^{-1}\\boldsymbol{y}$ comprises of the training data. \n",
    "\n",
    "So the mean function is just a non-linear function of a combination of basis funcitons, each defined at a training sample.  "
   ]
  },
  {
   "cell_type": "code",
   "execution_count": null,
   "metadata": {
    "collapsed": true
   },
   "outputs": [],
   "source": []
  }
 ],
 "metadata": {
  "kernelspec": {
   "display_name": "Python 2",
   "language": "python",
   "name": "python2"
  },
  "language_info": {
   "codemirror_mode": {
    "name": "ipython",
    "version": 2
   },
   "file_extension": ".py",
   "mimetype": "text/x-python",
   "name": "python",
   "nbconvert_exporter": "python",
   "pygments_lexer": "ipython2",
   "version": "2.7.13"
  }
 },
 "nbformat": 4,
 "nbformat_minor": 2
}
