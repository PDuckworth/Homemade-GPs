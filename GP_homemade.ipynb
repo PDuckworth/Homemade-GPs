{
 "cells": [
  {
   "cell_type": "markdown",
   "metadata": {
    "collapsed": true
   },
   "source": [
    "### Homemade Python GP implementation \n",
    "---\n",
    "\n",
    "By Paul Duckworth\n",
    "\n",
    "Clearly, the book to look at is Chapter 2 of [Rasmussen and Williams 2006](http://www.gaussianprocess.org/gpml/chapters/RW.pdf), plus other useful material on GPs can be found in [these](https://www.youtube.com/watch?v=MfHKW5z-OOA&list=PLE6Wd9FR--EdyJ5lbFl8UuGjecvVw66F6&index=9) video lectures, with Gaussian Basics described [here](https://www.youtube.com/watch?v=4vGiHC35j9s&index=8&list=PLE6Wd9FR--EdyJ5lbFl8UuGjecvVw66F6)."
   ]
  },
  {
   "cell_type": "markdown",
   "metadata": {},
   "source": [
    "A Gaussian Distribution: $$ \\boldsymbol{f} = (f_1, \\dots, f_n) \\sim \\mathcal{N}(\\mu, \\Sigma), \\text{ for \n",
    "} i = 1, \\dots, n.$$\n",
    "\n",
    "A Gaussian Process: $$ f(\\boldsymbol{x}) = GP(m(\\boldsymbol{x}), k(\\boldsymbol{x}, \\boldsymbol{x}')),$$\n",
    "\n",
    "with mean function:\n",
    "$$m(\\boldsymbol{x}) = \\mathbb{E}[f(\\boldsymbol{x})],$$ \n",
    "\n",
    "and covariance function: \n",
    "$$k(\\boldsymbol{x}, \\boldsymbol{x}') = \\mathbb{E}[ (f(\\boldsymbol{x}) - m(\\boldsymbol{x})) - (f(\\boldsymbol{x'}) - m(\\boldsymbol{x'}))^{T}]. $$"
   ]
  },
  {
   "cell_type": "markdown",
   "metadata": {},
   "source": [
    "**Definition**: A GP is a colleciton of random variables, any finite number of which have a consistent Gaussian Distribution. "
   ]
  },
  {
   "cell_type": "code",
   "execution_count": 64,
   "metadata": {},
   "outputs": [
    {
     "data": {
      "image/png": "[encoded data removed]",
      "text/plain": [
       "<matplotlib.figure.Figure at 0x7f121e5b61d0>"
      ]
     },
     "metadata": {},
     "output_type": "display_data"
    }
   ],
   "source": [
    "from __future__ import division\n",
    "import numpy as np\n",
    "import matplotlib.pyplot as plt\n",
    "\n",
    "from IPython.html.widgets import interact, fixed\n",
    "from ipywidgets import widgets\n",
    "from IPython.display import display\n",
    "from IPython.display import clear_output\n",
    "\n",
    "# We first need a true (and unknown) function with which to approximate using a GP:\n",
    "f = lambda x: np.sin(0.9*x).flatten()\n",
    "#f = lambda x: (0.25*(x**2)).flatten()\n",
    "\n",
    "# We need some observed data points from that function: \n",
    "\n",
    "N = 10            # number of training points.\n",
    "s = 0.1          # noise variance.\n",
    "\n",
    "# Sample some input points and noisy versions of the function evaluated at these points. \n",
    "X = np.random.uniform(-5, 5, size=(N,1))\n",
    "y = f(X) + s*np.random.randn(N)\n",
    "\n",
    "plt.scatter(X, y, c= \"b\")\n",
    "plt.xlabel(\"input x\"), plt.ylabel(\"noisey output y\"), plt.title(\"Observed Data\")\n",
    "plt.axis([-5, 5, -3, 3])\n",
    "plt.show()\n"
   ]
  },
  {
   "cell_type": "code",
   "execution_count": 65,
   "metadata": {
    "collapsed": true
   },
   "outputs": [],
   "source": [
    "# Define the x-axis points that we're going to make predictions at. \n",
    "n = 50\n",
    "Xtest = np.linspace(-5, 5, n).reshape(-1,1)"
   ]
  },
  {
   "cell_type": "markdown",
   "metadata": {},
   "source": [
    "Kernel\n",
    "---\n",
    "\n",
    "First, specify a kernel, such as an exponentiated quadratic kernel (RBF): \n",
    "\n",
    "$$ k(x, x') = \\sigma^{2}_{f} exp (-\\frac{1}{2l^2}(x - x')^2), $$ \n",
    "where $\\sigma$ is the variance and $l$ the length hyperparameter.\n",
    "\n",
    "The kernel specifies the prior belief that we want smooth functions, i.e. close by x's are close in y. "
   ]
  },
  {
   "cell_type": "code",
   "execution_count": 66,
   "metadata": {
    "scrolled": true
   },
   "outputs": [
    {
     "data": {
      "application/vnd.jupyter.widget-view+json": {
       "model_id": "344bd88dbaab4a4086009df3cd459041"
      }
     },
     "metadata": {},
     "output_type": "display_data"
    },
    {
     "data": {
      "application/vnd.jupyter.widget-view+json": {
       "model_id": "3af08b61c85440378fc64c6078a48379"
      }
     },
     "metadata": {},
     "output_type": "display_data"
    }
   ],
   "source": [
    "def kernel(a,b):\n",
    "    \"\"\"GP squared exponential kernel with sigma = 1\"\"\"\n",
    "    length_param = 1.0\n",
    "    sqdist = np.sum(a**2,1).reshape(-1,1) + np.sum(b**2,1) - 2*np.dot(a, b.T)\n",
    "    return np.exp(-.5 * (1/length_param) * sqdist)\n",
    "\n",
    "def annotate(K):\n",
    "    \"\"\"Annotate confusion matrix with values\"\"\"\n",
    "    width, height = K.shape\n",
    "    for x in xrange(width):\n",
    "        for y in xrange(height):\n",
    "            plt.annotate(\"%0.2f\" % K[x][y], xy=(y, x), horizontalalignment='center', verticalalignment='center')\n",
    "\n",
    "K = kernel(X, X)\n",
    "Kstar= kernel(X, Xtest)\n",
    "Kstarstar = kernel(Xtest, Xtest)\n",
    "\n",
    "button_k    = widgets.Button(description=\"Plot Kernel\")\n",
    "button_off  = widgets.Button(description=\"Hide Kernel\")\n",
    "\n",
    "display(button_k), display(button_off)    # dislay the two buttons\n",
    "\n",
    "def on_button_clicked(a): \n",
    "    clear_output()\n",
    "    plt.imshow(K, interpolation='nearest')#, cmap=plt.cm.Blues)\n",
    "    annotate(K)   # don't annotate cells :) \n",
    "    plt.colorbar()\n",
    "    plt.show()\n",
    "\n",
    "def off_button_clicked(a): clear_output()\n",
    "\n",
    "button_k.on_click(on_button_clicked)\n",
    "button_off.on_click(off_button_clicked)"
   ]
  },
  {
   "cell_type": "markdown",
   "metadata": {},
   "source": [
    "Prior\n",
    "---\n",
    "\n",
    "Define a range of test points along x-axis, and use the kernel and the cholesky decomposition (for inverting K), in order to draw samples from the prior using:\n",
    "$$f_i \\sim \\mathcal{N}(0_N, K_{N \\times N}),$$\n",
    "where \n",
    "$$K_{N \\times N} = k(X, X). $$\n",
    "\n",
    "This defines a positive definite matrix $K$ which can be decomposed: $$ K = LL^T,$$ leading to: $$f_i \\sim \\mathcal{N}(0_N, I_{N\\times N})\\times L ,$$\n",
    "where $L$ is a lower tri-matrix from the cholesky decomposition. \n"
   ]
  },
  {
   "cell_type": "code",
   "execution_count": 67,
   "metadata": {},
   "outputs": [
    {
     "data": {
      "application/vnd.jupyter.widget-view+json": {
       "model_id": "c9ab8e854abb451f94528ccae972df30"
      }
     },
     "metadata": {},
     "output_type": "display_data"
    },
    {
     "data": {
      "application/vnd.jupyter.widget-view+json": {
       "model_id": "b1c3eb8bc29d45b4bf7f406d3dc52f35"
      }
     },
     "metadata": {},
     "output_type": "display_data"
    }
   ],
   "source": [
    "### draw samples from the prior at test points\n",
    "\n",
    "L = np.linalg.cholesky(Kstarstar + 1e-6*np.eye(n))\n",
    "\n",
    "button_prior = widgets.Button(description=\"Draws from Prior\")\n",
    "button_off  = widgets.Button(description=\"Hide Priors\")\n",
    "\n",
    "display(button_prior), display(button_off)    # dislay the two buttons\n",
    "\n",
    "def plot_prior(f_prior):\n",
    "    plt.plot(Xtest, f_prior)\n",
    "    plt.title(\"Three samples from the GP prior\"), plt.xlabel('x'), plt.ylabel(\"k(x,x')\")\n",
    "    plt.show()\n",
    "\n",
    "def on_button_clicked(a): \n",
    "    rand = np.random.normal(size=(n,3))         # random draws of length n\n",
    "    f_prior = np.dot(L, rand)\n",
    "    plt.clf()\n",
    "    plt.axis([-5, 5, -3, 3])\n",
    "    plot_prior(f_prior)\n",
    "\n",
    "def off_button_clicked(a): \n",
    "    clear_output()\n",
    "\n",
    "button_prior.on_click(on_button_clicked)\n",
    "button_off.on_click(off_button_clicked)"
   ]
  },
  {
   "cell_type": "markdown",
   "metadata": {},
   "source": [
    "Posterior \n",
    "---\n",
    "\n",
    "Given some data $\\mathcal{D} = \\{ (\\boldsymbol{x}_i, f_i), i = 1:N\\}$ where $ f_i = f(\\boldsymbol{x}_i)$. \n",
    "\n",
    "Then the noise-free joint distribution of the training outputs $\\boldsymbol{f}$ and the test outputs $\\boldsymbol{f_{*}}$can be specified as:\n",
    "\n",
    "$$\n",
    "\\begin{pmatrix} \n",
    "\\boldsymbol{f}   \\\\ \n",
    "\\boldsymbol{f}_{*}  \\\\ \n",
    "\\end{pmatrix} \\sim \\mathcal{N} \n",
    "\\begin{pmatrix} \n",
    "    \\begin{pmatrix} \n",
    "        \\boldsymbol{\\mu}   \\\\ \n",
    "        \\boldsymbol{\\mu}_{*}  \\\\ \n",
    "    \\end{pmatrix},\n",
    "    \\begin{pmatrix} \n",
    "        K       &  K_{*}  \\\\ \n",
    "        K_{*}^T &  K_{**} \\\\ \n",
    "    \\end{pmatrix}\n",
    "\\end{pmatrix}\n",
    "$$\n",
    "\n",
    "Then the posterior is defined by conditioning on the observed data $\\mathcal{D}$: \n",
    "\n",
    "$$\n",
    "p(\\boldsymbol{f}_{*} \\mid X_{*}, X, \\boldsymbol{f})  = \n",
    "    \\mathcal{N}(\\boldsymbol{f}_{*} \\mid \\boldsymbol{\\mu}_{*}, \\Sigma_{*}), \n",
    "$$\n",
    "    \n",
    "where:\n",
    "$$\n",
    "\\begin{align}    \n",
    "\\boldsymbol{\\mu}_{*} & =  \\boldsymbol{\\mu}(X_{*}) + K_{*}^T K^{-1} (\\boldsymbol{f} - \\boldsymbol{\\mu}(X))\\\\\n",
    "\\Sigma_{*}           & = K_{**} - K_{*}^T K^{-1}K_{*}\n",
    "\\end{align}\n",
    "$$\n",
    "\n",
    "\n",
    "With added noise on the observed training points, this joint distribution can be altered to: \n",
    "\n",
    "$$\n",
    "\\begin{pmatrix} \n",
    "\\boldsymbol{y}   \\\\ \n",
    "\\boldsymbol{f}_{*}  \\\\ \n",
    "\\end{pmatrix} \\sim \\mathcal{N} \n",
    "\\begin{pmatrix} \n",
    "    \\begin{pmatrix} \n",
    "        \\boldsymbol{\\mu}   \\\\ \n",
    "        \\boldsymbol{\\mu}_{*}  \\\\ \n",
    "    \\end{pmatrix},\n",
    "    \\begin{pmatrix} \n",
    "        K + \\sigma_n^2 I      &  K_{*}  \\\\ \n",
    "        K_{*}^T &  K_{**}\\\\\n",
    "    \\end{pmatrix}\n",
    "\\end{pmatrix}, \n",
    "$$\n",
    "where $y = f(\\boldsymbol{x}) + \\epsilon$ where there is added iid Gaussian noise $\\epsilon$ with variance $\\sigma_n^2 I$. "
   ]
  },
  {
   "cell_type": "code",
   "execution_count": 68,
   "metadata": {
    "scrolled": false
   },
   "outputs": [
    {
     "data": {
      "image/png": "[encoded data removed]",
      "text/plain": [
       "<matplotlib.figure.Figure at 0x7f121cae23d0>"
      ]
     },
     "metadata": {},
     "output_type": "display_data"
    }
   ],
   "source": [
    "# compute the mean at each of our (x-axis) test points.\n",
    "\n",
    "# decompose K (instead of inversion)\n",
    "L = np.linalg.cholesky(K + s*np.eye(N))   # Notice the gaussian noise term added to K. (Ky)\n",
    "\n",
    "# solve for m where: L*m = y\n",
    "m = np.linalg.solve(L, y)\n",
    "\n",
    "# solve for alpha where: L.T*alpha = m\n",
    "alpha = np.linalg.solve(L.T, m)\n",
    "\n",
    "mu = np.dot(Kstar.T, alpha)\n",
    "\n",
    "plt.plot(X, y, 'r+', ms=20)             # 10 observed data points  (red)\n",
    "plt.plot(Xtest, f(Xtest), 'b-')         # actual true process creating the data (blue)\n",
    "plt.plot(Xtest, mu, 'r--', lw=2)       # mean function \\mu   (red)\n",
    "plt.axis([-5, 5, -3, 3])\n",
    "\n",
    "# compute the variance at our test points - each point along the x-axis.\n",
    "\n",
    "# solve for v where: Lv = Kstar\n",
    "v = np.linalg.solve(L, Kstar)  \n",
    "\n",
    "var = np.diag(Kstarstar) - np.sum(v**2, axis=0)\n",
    "std = np.sqrt(var)\n",
    "plt.gca().fill_between(Xtest.flat, mu-3*std, mu+3*std, color=\"#dddddd\")\n",
    "\n",
    "plt.xlabel('input x'),plt.ylabel('output f(x)')\n",
    "plt.legend(['obeserved', 'true func', 'mean func', '3 std'])\n",
    "plt.title('Mean predictions plus 3 st.deviations')\n",
    "\n",
    "plt.show()"
   ]
  },
  {
   "cell_type": "code",
   "execution_count": 69,
   "metadata": {},
   "outputs": [
    {
     "data": {
      "text/plain": [
       "(50, numpy.ndarray, (50,))"
      ]
     },
     "execution_count": 69,
     "metadata": {},
     "output_type": "execute_result"
    }
   ],
   "source": [
    "len(Xtest.flat), type(mu), std.shape"
   ]
  },
  {
   "cell_type": "markdown",
   "metadata": {},
   "source": [
    "Let's explain what we just did: \n",
    "--- \n",
    "\n",
    "Since, the mean function $\\boldsymbol{\\mu}_{*} =  \\boldsymbol{\\mu}(X_{*}) + K_{*}^T K^{-1} (\\boldsymbol{f} - \\boldsymbol{\\mu}(X))$ but we don't want to invert K we do the following: \n",
    "\n",
    "Cholesky says: $K = LL^T$ and Inverse Cholesky: $ K^{-1}y = L^{-T}L^{-1}y$. \n",
    "\n",
    "So, we let $\\alpha = K^{-1} \\boldsymbol{f}$, then $\\boldsymbol{\\mu}_{*} = K_{*}^T  \\alpha$ when we are assuming a zero mean function.\n",
    "\n",
    "Then, we let $m = L^{-1} \\boldsymbol{f}$ and if that's true, it follows that $ Lm = \\boldsymbol{f}$, and so we solve for $m$. \n",
    "\n",
    "Then, if $\\alpha = K^{-1} \\boldsymbol{f} = L^{-T}L^{-1}\\boldsymbol{f} = L^{-T} m$, then it also follows that $L^{T}\\alpha = m$ and so we solve for $\\alpha$.\n",
    "\n",
    "\n",
    "For the Variance,  $Var[\\boldsymbol{f_{*}}] = K_{**} - K_{*}^T K^{-1}K_{*}$, again letting $K^{-1} = L^{-T}L^{-1}$, so $K_{*}^T K^{-1}K_{*} = (K_{*}^T L^{-T}) (L^{-1} K_{*})$ where we can solve for $\\boldsymbol{v}$ in $L\\boldsymbol{v} = K_{*}$ and reduce to $\\boldsymbol{v}^{T}\\boldsymbol{v}$. \n",
    "\n"
   ]
  },
  {
   "cell_type": "markdown",
   "metadata": {},
   "source": [
    "Predictive Distribution\n",
    "---\n",
    "\n",
    "Commonly a zero mean function is used, and the key predictive equations for GPs reduce to:\n",
    "\n",
    "$$\n",
    "p(\\boldsymbol{f}_{*} \\mid X_{*}, X, \\boldsymbol{y}) = \n",
    "    \\mathcal{N}(\\boldsymbol{\\bar f}_{*}, cov(\\boldsymbol{f}_{*})), \n",
    "$$\n",
    "\n",
    "where:\n",
    "$$\n",
    "\\begin{align}    \n",
    "\\boldsymbol{\\bar f}_{*} &  = \\mathbb{E}[\\boldsymbol{f}_{*} \\mid X, \\boldsymbol{y}, X_{*}] = \n",
    "  K_{*}^T[K + \\sigma^2_n I]^{-1}\\boldsymbol{y} , \\\\\n",
    "cov(\\boldsymbol{f}_{*}) & = K_{**} - K_{*}^T [K + \\sigma^2_n I]^{-1}K_{*}. \n",
    "\\end{align}\n",
    "$$\n",
    "\n",
    "\n"
   ]
  },
  {
   "cell_type": "markdown",
   "metadata": {},
   "source": [
    "Draw samples from posterior\n",
    "--- \n",
    "\n",
    "From $\n",
    "p(\\boldsymbol{f}_{*} \\mid X_{*}, X, \\boldsymbol{f})  = \n",
    "    \\mathcal{N}(\\boldsymbol{f}_{*} \\mid \\boldsymbol{\\mu}_{*}, \\Sigma_{*}), $ \n",
    "we can draw samples, by again using Cholesky factorisation, and a random number generator. \n"
   ]
  },
  {
   "cell_type": "code",
   "execution_count": 70,
   "metadata": {
    "scrolled": true
   },
   "outputs": [
    {
     "data": {
      "image/png": "[encoded data removed]",
      "text/plain": [
       "<matplotlib.figure.Figure at 0x7f121e990050>"
      ]
     },
     "metadata": {},
     "output_type": "display_data"
    }
   ],
   "source": [
    "# Draw samples from the posterior - at our test points.\n",
    "post = Kstarstar + 1e-6*np.eye(n) - np.dot(v.T, v)\n",
    "L = np.linalg.cholesky(post)\n",
    "f_post = mu.reshape(-1,1) + np.dot(L, np.random.normal(size=(n,5)))\n",
    "\n",
    "plt.clf()\n",
    "plt.plot(Xtest, f_post)\n",
    "plt.xlabel('input x'), plt.ylabel('output f(x)')\n",
    "plt.title('Five samples from the GP posterior')\n",
    "plt.show()"
   ]
  },
  {
   "cell_type": "markdown",
   "metadata": {},
   "source": [
    "Log Marginal Likelihood\n",
    "---\n",
    "\n",
    "The marginal likelihood $p(\\boldsymbol{y} \\mid X)$ (or evidence) is the integral of the likelihood times prior (where the latent variable f is integrated out): \n",
    "$$\n",
    "p(\\boldsymbol{y} \\mid X) = \\int p(\\boldsymbol{y} \\mid \\boldsymbol{f}, X)p(\\boldsymbol{f} \\mid X) d\\boldsymbol{f}.\n",
    "$$\n",
    "\n",
    "Given the prior is Gaussian: $\\boldsymbol{f} \\mid X \\sim \\mathcal{N}(0, K)$, and the likelihood is a factorised Gaussian: $ \\boldsymbol{y} \\mid \\boldsymbol{f} \\sim \\mathcal{N}(\\boldsymbol{f}, \\sigma^2_n I) $, then it follows that the log marginal likelihood is also Gaussian: $ \\boldsymbol{y} \\sim \\mathcal{N}(0, K + \\sigma^2_n I) $, and is:\n",
    "$$\n",
    "log p(\\boldsymbol{y} \\mid X) = -\\frac{1}{2}\\boldsymbol{y}^T (K+\\sigma^2_n I)^{-1} - \\frac{1}{2}log \\mid K+\\sigma^2_n I \\mid - \\frac{n}{2}log2\\pi .\n",
    "$$\n",
    "\n",
    "This can be computed: \n",
    "$$\n",
    " = -\\frac{1}{2}\\boldsymbol{y}^T\\boldsymbol{\\alpha} - \\sum_i log L_{ii} - \\frac{n}{2}log2\\pi \n",
    "$$"
   ]
  },
  {
   "cell_type": "code",
   "execution_count": 71,
   "metadata": {},
   "outputs": [
    {
     "name": "stdout",
     "output_type": "stream",
     "text": [
      "229.604013726\n"
     ]
    }
   ],
   "source": [
    "LML = -0.5*np.dot(y.T, alpha) - sum(np.log(np.diag(L))) - 0.5*N*np.log(2*np.pi)\n",
    "print LML"
   ]
  },
  {
   "cell_type": "markdown",
   "metadata": {},
   "source": [
    "Optimisation\n",
    "---\n",
    "\n",
    "The hyperparameters of the kernel can be optimized by maximizing the log-marginal-likelihood (LML).\n",
    "\n",
    "Note, the LML may have multiple local optima. "
   ]
  },
  {
   "cell_type": "markdown",
   "metadata": {},
   "source": [
    "Hyperparameters\n",
    "---\n",
    "\n",
    "We can vary the kernel hyperparameters and see what happens to the Prior and Posterior distributions..."
   ]
  },
  {
   "cell_type": "code",
   "execution_count": 72,
   "metadata": {},
   "outputs": [
    {
     "data": {
      "application/vnd.jupyter.widget-view+json": {
       "model_id": "050e4ff342ff462f9ae6bbab8a5c4ae5"
      }
     },
     "metadata": {},
     "output_type": "display_data"
    }
   ],
   "source": [
    "def new_kernel(a,b,l=1.0,sig=1.0):\n",
    "    \"\"\"GP squared exponential kernel\"\"\"\n",
    "    sqdist = np.sum(a**2,1).reshape(-1,1) + np.sum(b**2,1) - 2*np.dot(a, b.T)\n",
    "    k = (sig**2)*np.exp(-.5 * (1/l) * sqdist)\n",
    "    return k\n",
    "\n",
    "def wrap(length, sigma_f, vis=False):\n",
    "    K = new_kernel(X,X,length,sigma_f)\n",
    "    Kstar = new_kernel(X, Xtest,length,sigma_f)\n",
    "    Kstarstar = new_kernel(Xtest, Xtest,length,sigma_f)\n",
    "\n",
    "    # draws from Prior distribution \n",
    "    L = np.linalg.cholesky(Kstarstar + s*np.eye(n))\n",
    "    rand = np.random.normal(size=(n,3)) \n",
    "    f_prior = np.dot(L, rand)\n",
    "\n",
    "    # compute the Posterior distribution (mean and covariance)\n",
    "    L = np.linalg.cholesky(K + s*np.eye(N))\n",
    "    m = np.linalg.solve(L, y)\n",
    "    alpha = np.linalg.solve(L.T, m)\n",
    "    mu = np.dot(Kstar.T, alpha)\n",
    "\n",
    "    v = np.linalg.solve(L, Kstar)  \n",
    "    var = np.diag(Kstarstar) - np.sum(v**2, axis=0)\n",
    "    std = np.sqrt(var)\n",
    "\n",
    "    # draws from Posterior distribution \n",
    "    post = Kstarstar + 1e-6*np.eye(n) - np.dot(v.T, v)\n",
    "    L = np.linalg.cholesky(post)          \n",
    "    f_post = mu.reshape(-1,1) + np.dot(L, np.random.normal(size=(n,5)))\n",
    "   \n",
    "    #Log marginal likelihood\n",
    "    LML = -0.5*np.dot(y.T, alpha) - sum(np.log(np.diag(L))) - 0.5*N*np.log(2*np.pi)\n",
    "\n",
    "    if vis: draw_things(Xtest, f_prior, f, (mu, std), f_post) \n",
    "#     print \"Log marginal likelihood = \"\n",
    "    return LML\n",
    "\n",
    "\n",
    "\n",
    "def draw_things(Xtest, f_prior, f, (mu, std), f_post):\n",
    "   \n",
    "    fig, (ax1, ax2, ax3) = plt.subplots(1, 3, figsize=(20, 6))\n",
    "    ax1.axis([-5, 5, -3, 3])\n",
    "    ax1.set_xlabel(\"x\"),ax1.set_ylabel(\"k(x,x')\"), ax1.set_title(\"Three samples from the GP prior\")\n",
    "    ax1.plot(Xtest, f_prior)\n",
    "    \n",
    "    ax2.axis([-5, 5, -3, 3])\n",
    "    ax2.plot(X, y, 'r+', ms=20)            \n",
    "    ax2.plot(Xtest, f(Xtest), 'b-')        \n",
    "    ax2.plot(Xtest, mu, 'r--', lw=2)\n",
    "    ax2.fill_between(Xtest.flat, mu-3*std, mu+3*std, color=\"#dddddd\")\n",
    "    ax2.set_xlabel(\"x\"), ax2.set_ylabel(\"f(x)\"), ax2.set_title(\"Mean predictions plus 3 st.deviations\")\n",
    "    ax2.legend(['obeserved', 'true func', 'mean func', '3 std'])\n",
    "    \n",
    "    ax3.axis([-5, 5, -3, 3])\n",
    "    ax3.plot(Xtest, f_post)\n",
    "    ax3.set_xlabel(\"x\"), ax2.set_ylabel(\"f(x)\"), ax2.set_title(\"Five samples from the GP posterior\")   \n",
    "\n",
    "    plt.show()\n",
    "\n",
    "interact(wrap, length=(0.01,205,0.01), sigma_f=(0.01,5,0.1), vis=True);\n"
   ]
  },
  {
   "cell_type": "code",
   "execution_count": 75,
   "metadata": {},
   "outputs": [
    {
     "data": {
      "image/png": "[encoded data removed]",
      "text/plain": [
       "<matplotlib.figure.Figure at 0x7f121f8a5750>"
      ]
     },
     "metadata": {},
     "output_type": "display_data"
    }
   ],
   "source": [
    "lengthscales = np.linspace(1, 10., 20)\n",
    "variances = np.linspace(0.1, 5, 20)\n",
    "\n",
    "log_likelihoods = np.zeros((len(variances), len(lengthscales)))\n",
    "\n",
    "for v in xrange(len(variances)):\n",
    "    for l in xrange(len(lengthscales)):\n",
    "        log_likelihoods[v, l] = wrap(lengthscales[l], variances[v])\n",
    "\n",
    "plt.imshow(log_likelihoods, extent=[min(lengthscales),max(lengthscales),min(variances),max(variances)], aspect=1, origin='lower')\n",
    "plt.colorbar()\n",
    "plt.xlabel(\"lengthscale\"), plt.ylabel(\"variance\"), plt.title(\"Visualising the Optimisation\")\n",
    "plt.show()\n"
   ]
  },
  {
   "cell_type": "markdown",
   "metadata": {},
   "source": [
    "Interpretation as weighted Basis functions \n",
    "---\n",
    "\n",
    "Given a single test point $\\boldsymbol{x}_*$: \n",
    "$$\n",
    "p(f_{*} \\mid \\boldsymbol{x}_{*}, X, \\boldsymbol{y}) = \n",
    "    \\mathcal{N}(f_{*} \\mid K_{*}^T K_y^{-1}\\boldsymbol{y}, k_{**} - K_{*}^T K_y^{-1}K_{*}), \n",
    "$$\n",
    "\n",
    "where:\n",
    "$K_y = K + \\sigma^2_n I$ and often $ k_{**} = 1$. \n",
    "\n",
    "Then the mean can be re-written:\n",
    "\n",
    "$$\n",
    "\\bar f_{*} = K_{*}^T K_y^{-1}\\boldsymbol{y} = \\sum_{i=1}^{N} \\alpha_i k(\\boldsymbol{x}_i, \\boldsymbol{x}_*)\n",
    "$$\n",
    "where $\\alpha = K_y^{-1}\\boldsymbol{y}$ comprises of the training data. \n",
    "\n",
    "So the mean function is just a non-linear function of a combination of basis funcitons, each defined at a training sample.  "
   ]
  },
  {
   "cell_type": "markdown",
   "metadata": {},
   "source": [
    "Gradients \n",
    "---\n",
    "\n",
    "The derivation of gradient of the marginal likelihood is given in Ch5 (eq 5.9) and also explained nicely for RBF [here](https://math.stackexchange.com/questions/1030534/gradients-of-marginal-likelihood-of-gaussian-process-with-squared-exponential-co/1072701#1072701)\n",
    "\n",
    "\n",
    "We are looking to maximise the log probability of: $p(\\boldsymbol{y} \\mid X, \\Theta)$\n",
    "\n",
    "$$\n",
    "log p(\\boldsymbol{y} \\mid X, \\Theta) = -\\frac{1}{2}\\boldsymbol{y}^T (K+\\sigma^2_n I)^{-1} - \\frac{1}{2}log \\mid K+\\sigma^2_n I \\mid - \\frac{n}{2}log2\\pi .\n",
    "$$\n",
    "\n",
    "$$\n",
    "\\begin{align}\n",
    "\\frac{\\partial}{\\partial \\theta_j} log p(\\boldsymbol{y} \\mid X, \\Theta) \n",
    "= &\n",
    "\\frac{1}{2}\\boldsymbol{y}^T K^{-1} \\frac{\\partial K}{\\partial \\theta_j}K^{-1}\\boldsymbol{y} - \\frac{1}{2}\\text{tr}\\big(K^{-1} \\frac{\\partial K}{\\partial \\theta_j}\\big) \\\\\n",
    "= & \n",
    "\\frac{1}{2}\\text{tr}\\Big( (\\boldsymbol{\\alpha} \\boldsymbol{\\alpha}^T - K^{-1} ) \\frac{\\partial K}{\\partial \\theta_j}\\Big), \\text{ where } \\boldsymbol{\\alpha} = K^{-1}\\boldsymbol{y}.\n",
    "\\end{align}\n",
    "$$\n",
    "where $\\frac{\\partial K}{\\partial \\theta_j}$ is a matrix of elementwise derivatives."
   ]
  },
  {
   "cell_type": "markdown",
   "metadata": {},
   "source": [
    "So, derivatives: \n",
    "$$\n",
    "\\frac{\\partial K}{\\partial \\sigma_f} = 2\\sigma_{f} exp (-\\frac{1}{2l^2}(x - x')^2), \n",
    "$$\n",
    "and, \n",
    "$$\n",
    "\\frac{\\partial K}{\\partial \\sigma_l} = \\frac{\\sigma^{2}_{f}(x - x')^2 exp (-\\frac{1}{2l^2}(x - x')^2)}{l^3} \n",
    "$$"
   ]
  },
  {
   "cell_type": "code",
   "execution_count": 111,
   "metadata": {},
   "outputs": [],
   "source": [
    "def MLL_deriv(X, alpha, K, (l, sigma)):\n",
    "    a = alpha.reshape(len(X),1)\n",
    "    b = np.dot(a, a.T) - np.linalg.inv(K)\n",
    "    \n",
    "    d_theta_l, d_theta_s = SE_ker_deriv(X, X, (l, sigma))\n",
    "    dmLL_l =-0.5*sum( np.diag(np.inner(b, d_theta_l)))\n",
    "    dmLL_s = -0.5*sum( np.diag(np.inner(b, d_theta_s)))\n",
    "    return dmLL_l, dmLL_s\n",
    "\n",
    "def SE_ker_deriv(a, b, (l, sigma)):\n",
    "    \"\"\"Derivative of squared exponential kernel\"\"\"\n",
    "    sqdist = np.sum(a**2,1).reshape(-1,1) + np.sum(b**2,1) - 2*np.dot(a, b.T)\n",
    "#     print sqdist\n",
    "    d_theta_l = (sqdist*s**2) * (np.exp(-0.5*(sqdist/(l**2)))) * 1/ float(l**3)\n",
    "    d_theta_s = 2*s * np.exp(-0.5*(sqdist/(float(l**2))))\n",
    "    return d_theta_l, d_theta_s\n"
   ]
  },
  {
   "cell_type": "code",
   "execution_count": 112,
   "metadata": {},
   "outputs": [
    {
     "data": {
      "text/plain": [
       "(-0.12683311622619853, 0.73117174027718601)"
      ]
     },
     "execution_count": 112,
     "metadata": {},
     "output_type": "execute_result"
    }
   ],
   "source": [
    "MLL_deriv(X, alpha, K, (1.0, 0.1))"
   ]
  },
  {
   "cell_type": "code",
   "execution_count": 89,
   "metadata": {},
   "outputs": [
    {
     "name": "stdout",
     "output_type": "stream",
     "text": [
      "[[  0.00000000e+00   1.95767526e-04   1.30040598e-05   1.35787494e-05\n",
      "    8.99611854e-05   8.88679437e-05   3.44480325e-05   6.31508336e-05\n",
      "    9.95416276e-05   1.29640845e-04]\n",
      " [  1.95767526e-04   0.00000000e+00   2.85698414e-04   1.15440575e-04\n",
      "    2.53335930e-05   2.59501828e-05   7.54092892e-05   4.02263908e-04\n",
      "    2.03516565e-05   4.95888101e-04]\n",
      " [  1.30040598e-05   2.85698414e-04   0.00000000e+00   5.21033266e-05\n",
      "    1.62560807e-04   1.61182938e-04   8.69427580e-05   1.96903713e-05\n",
      "    1.74509243e-04   6.45669218e-05]\n",
      " [  1.35787494e-05   1.15440575e-04   5.21033266e-05   0.00000000e+00\n",
      "    3.55142847e-05   3.47976578e-05   4.93111976e-06   1.29363953e-04\n",
      "    4.19244808e-05   2.12719198e-04]\n",
      " [  8.99611854e-05   2.53335930e-05   1.62560807e-04   3.55142847e-05\n",
      "    0.00000000e+00   3.85472610e-09   1.42624139e-05   2.70125948e-04\n",
      "    2.82038906e-07   3.66849180e-04]\n",
      " [  8.88679437e-05   2.59501828e-05   1.61182938e-04   3.47976578e-05\n",
      "    3.85472610e-09   0.00000000e+00   1.38021962e-05   2.68539519e-04\n",
      "    3.51821138e-07   3.65219945e-04]\n",
      " [  3.44480325e-05   7.54092892e-05   8.69427580e-05   4.93111976e-06\n",
      "    1.42624139e-05   1.38021962e-05   0.00000000e+00   1.77665280e-04\n",
      "    1.84997459e-05   2.68106077e-04]\n",
      " [  6.31508336e-05   4.02263908e-04   1.96903713e-05   1.29363953e-04\n",
      "    2.70125948e-04   2.68539519e-04   1.77665280e-04   0.00000000e+00\n",
      "    2.83763037e-04   1.36776550e-05]\n",
      " [  9.95416276e-05   2.03516565e-05   1.74509243e-04   4.19244808e-05\n",
      "    2.82038906e-07   3.51821138e-07   1.84997459e-05   2.83763037e-04\n",
      "    0.00000000e+00   3.80770697e-04]\n",
      " [  1.29640845e-04   4.95888101e-04   6.45669218e-05   2.12719198e-04\n",
      "    3.66849180e-04   3.65219945e-04   2.68106077e-04   1.36776550e-05\n",
      "    3.80770697e-04   0.00000000e+00]]\n"
     ]
    },
    {
     "data": {
      "text/plain": [
       "(-0.0, 261796.19132708895)"
      ]
     },
     "execution_count": 89,
     "metadata": {},
     "output_type": "execute_result"
    }
   ],
   "source": [
    "MLL_deriv(X, alpha, K, (10.0, 10.1))"
   ]
  },
  {
   "cell_type": "code",
   "execution_count": 80,
   "metadata": {},
   "outputs": [
    {
     "data": {
      "text/plain": [
       "array([[  1.00000000e+00,   1.81372278e-05,   5.19716222e-01,\n",
       "          5.04799202e-01,   8.95777740e-03,   9.51264501e-03,\n",
       "          1.73277824e-01,   3.83022331e-02,   5.27328431e-03,\n",
       "          9.60111346e-04],\n",
       "       [  1.81372278e-05,   1.00000000e+00,   4.49313930e-08,\n",
       "          2.16058428e-03,   2.77194371e-01,   2.68560289e-01,\n",
       "          1.98162917e-02,   4.55145795e-12,   3.57686439e-01,\n",
       "          4.73893239e-16],\n",
       "       [  5.19716222e-01,   4.49313930e-08,   1.00000000e+00,\n",
       "          6.88505659e-02,   1.38713137e-04,   1.50651670e-04,\n",
       "          1.05727243e-02,   3.69961243e-01,   6.73826043e-05,\n",
       "          3.55105837e-02],\n",
       "       [  5.04799202e-01,   2.16058428e-03,   6.88505659e-02,\n",
       "          1.00000000e+00,   1.63963214e-01,   1.70167819e-01,\n",
       "          7.81010922e-01,   9.75544376e-04,   1.17466633e-01,\n",
       "          6.20023856e-06],\n",
       "       [  8.95777740e-03,   2.77194371e-01,   1.38713137e-04,\n",
       "          1.63963214e-01,   1.00000000e+00,   9.99807282e-01,\n",
       "          4.87599355e-01,   1.34523900e-07,   9.85995060e-01,\n",
       "          9.17827795e-11],\n",
       "       [  9.51264501e-03,   2.68560289e-01,   1.50651670e-04,\n",
       "          1.70167819e-01,   9.99807282e-01,   1.00000000e+00,\n",
       "          4.99113259e-01,   1.50203594e-07,   9.82559721e-01,\n",
       "          1.04869353e-10],\n",
       "       [  1.73277824e-01,   1.98162917e-02,   1.05727243e-02,\n",
       "          7.81010922e-01,   4.87599355e-01,   4.99113259e-01,\n",
       "          1.00000000e+00,   5.55802537e-05,   3.93110707e-01,\n",
       "          1.54789751e-07],\n",
       "       [  3.83022331e-02,   4.55145795e-12,   3.69961243e-01,\n",
       "          9.75544376e-04,   1.34523900e-07,   1.50203594e-07,\n",
       "          5.55802537e-05,   1.00000000e+00,   5.15664808e-08,\n",
       "          5.02274610e-01],\n",
       "       [  5.27328431e-03,   3.57686439e-01,   6.73826043e-05,\n",
       "          1.17466633e-01,   9.85995060e-01,   9.82559721e-01,\n",
       "          3.93110707e-01,   5.15664808e-08,   1.00000000e+00,\n",
       "          2.88888252e-11],\n",
       "       [  9.60111346e-04,   4.73893239e-16,   3.55105837e-02,\n",
       "          6.20023856e-06,   9.17827795e-11,   1.04869353e-10,\n",
       "          1.54789751e-07,   5.02274610e-01,   2.88888252e-11,\n",
       "          1.00000000e+00]])"
      ]
     },
     "execution_count": 80,
     "metadata": {},
     "output_type": "execute_result"
    }
   ],
   "source": [
    "K"
   ]
  },
  {
   "cell_type": "code",
   "execution_count": null,
   "metadata": {
    "collapsed": true
   },
   "outputs": [],
   "source": []
  }
 ],
 "metadata": {
  "kernelspec": {
   "display_name": "Python 2",
   "language": "python",
   "name": "python2"
  },
  "language_info": {
   "codemirror_mode": {
    "name": "ipython",
    "version": 2
   },
   "file_extension": ".py",
   "mimetype": "text/x-python",
   "name": "python",
   "nbconvert_exporter": "python",
   "pygments_lexer": "ipython2",
   "version": "2.7.13"
  }
 },
 "nbformat": 4,
 "nbformat_minor": 2
}
